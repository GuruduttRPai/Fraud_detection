{
  "nbformat": 4,
  "nbformat_minor": 0,
  "metadata": {
    "colab": {
      "provenance": [],
      "authorship_tag": "ABX9TyM+tFny+iO33UaRCQ7lsfRB",
      "include_colab_link": true
    },
    "kernelspec": {
      "name": "python3",
      "display_name": "Python 3"
    },
    "language_info": {
      "name": "python"
    }
  },
  "cells": [
    {
      "cell_type": "markdown",
      "metadata": {
        "id": "view-in-github",
        "colab_type": "text"
      },
      "source": [
        "<a href=\"https://colab.research.google.com/github/GuruduttRPai/Fraud_detection/blob/main/Fraudulent_E_Commerce_Transactions.ipynb\" target=\"_parent\"><img src=\"https://colab.research.google.com/assets/colab-badge.svg\" alt=\"Open In Colab\"/></a>"
      ]
    },
    {
      "cell_type": "code",
      "execution_count": 1,
      "metadata": {
        "colab": {
          "base_uri": "https://localhost:8080/"
        },
        "id": "trQgUubsnsV2",
        "outputId": "f410f685-5728-402c-9b10-ab8f92fc75ec"
      },
      "outputs": [
        {
          "output_type": "stream",
          "name": "stdout",
          "text": [
            "Requirement already satisfied: kaggle in /usr/local/lib/python3.10/dist-packages (1.6.14)\n",
            "Requirement already satisfied: six>=1.10 in /usr/local/lib/python3.10/dist-packages (from kaggle) (1.16.0)\n",
            "Requirement already satisfied: certifi>=2023.7.22 in /usr/local/lib/python3.10/dist-packages (from kaggle) (2024.6.2)\n",
            "Requirement already satisfied: python-dateutil in /usr/local/lib/python3.10/dist-packages (from kaggle) (2.8.2)\n",
            "Requirement already satisfied: requests in /usr/local/lib/python3.10/dist-packages (from kaggle) (2.31.0)\n",
            "Requirement already satisfied: tqdm in /usr/local/lib/python3.10/dist-packages (from kaggle) (4.66.4)\n",
            "Requirement already satisfied: python-slugify in /usr/local/lib/python3.10/dist-packages (from kaggle) (8.0.4)\n",
            "Requirement already satisfied: urllib3 in /usr/local/lib/python3.10/dist-packages (from kaggle) (2.0.7)\n",
            "Requirement already satisfied: bleach in /usr/local/lib/python3.10/dist-packages (from kaggle) (6.1.0)\n",
            "Requirement already satisfied: webencodings in /usr/local/lib/python3.10/dist-packages (from bleach->kaggle) (0.5.1)\n",
            "Requirement already satisfied: text-unidecode>=1.3 in /usr/local/lib/python3.10/dist-packages (from python-slugify->kaggle) (1.3)\n",
            "Requirement already satisfied: charset-normalizer<4,>=2 in /usr/local/lib/python3.10/dist-packages (from requests->kaggle) (3.3.2)\n",
            "Requirement already satisfied: idna<4,>=2.5 in /usr/local/lib/python3.10/dist-packages (from requests->kaggle) (3.7)\n",
            "chmod: missing operand after ‘/root/.kaggle/kaggle.json’\n",
            "Try 'chmod --help' for more information.\n",
            "Warning: Your Kaggle API key is readable by other users on this system! To fix this, you can run 'chmod 600 /root/.kaggle/kaggle.json'\n",
            "Dataset URL: https://www.kaggle.com/datasets/shriyashjagtap/fraudulent-e-commerce-transactions\n",
            "License(s): MIT\n",
            "Downloading fraudulent-e-commerce-transactions.zip to /content\n",
            " 99% 157M/159M [00:09<00:00, 18.9MB/s]\n",
            "100% 159M/159M [00:09<00:00, 17.5MB/s]\n"
          ]
        }
      ],
      "source": [
        "!pip install kaggle\n",
        "!mkdir -p ~/.kaggle\n",
        "!cp kaggle.json ~/.kaggle/\n",
        "!chmod ~/.kaggle/kaggle.json\n",
        "!kaggle datasets download -d shriyashjagtap/fraudulent-e-commerce-transactions"
      ]
    },
    {
      "cell_type": "code",
      "source": [
        "from zipfile import ZipFile\n",
        "ZipFile(\"/content/fraudulent-e-commerce-transactions.zip\",'r').extractall()"
      ],
      "metadata": {
        "id": "AmIC1nthn6tE"
      },
      "execution_count": 2,
      "outputs": []
    },
    {
      "cell_type": "code",
      "source": [
        "import pandas as pd\n",
        "import numpy as np\n",
        "pd.plotting.register_matplotlib_converters()\n",
        "import matplotlib as mpl\n",
        "import matplotlib.pyplot as plt"
      ],
      "metadata": {
        "id": "JqlLnatOphsN"
      },
      "execution_count": 3,
      "outputs": []
    },
    {
      "cell_type": "code",
      "source": [
        "import seaborn as sns"
      ],
      "metadata": {
        "id": "PGtE8SpJzxdr"
      },
      "execution_count": 4,
      "outputs": []
    },
    {
      "cell_type": "code",
      "source": [
        "from sklearn.linear_model import LogisticRegression\n",
        "from sklearn.tree import DecisionTreeClassifier\n",
        "from sklearn.model_selection import train_test_split\n",
        "from sklearn.metrics import accuracy_score\n",
        "from sklearn.ensemble import RandomForestClassifier"
      ],
      "metadata": {
        "id": "v7dKAFOBpmmH"
      },
      "execution_count": 5,
      "outputs": []
    },
    {
      "cell_type": "code",
      "source": [
        "from sklearn.svm import SVC"
      ],
      "metadata": {
        "id": "lHYurxshu6k1"
      },
      "execution_count": 6,
      "outputs": []
    },
    {
      "cell_type": "code",
      "source": [
        "from sklearn.preprocessing import LabelEncoder"
      ],
      "metadata": {
        "id": "Mm87yJe-OX8b"
      },
      "execution_count": 7,
      "outputs": []
    },
    {
      "cell_type": "code",
      "source": [
        "from sklearn.metrics import confusion_matrix"
      ],
      "metadata": {
        "id": "ckWJ3jcLOthN"
      },
      "execution_count": 8,
      "outputs": []
    },
    {
      "cell_type": "code",
      "source": [
        "!pip install python-Levenshtein\n",
        "from Levenshtein import distance\n",
        "from sklearn.metrics import f1_score"
      ],
      "metadata": {
        "colab": {
          "base_uri": "https://localhost:8080/"
        },
        "id": "O-g5h2nufA_z",
        "outputId": "c82c5821-5a16-482b-c44b-eaf932922eb2"
      },
      "execution_count": 9,
      "outputs": [
        {
          "output_type": "stream",
          "name": "stdout",
          "text": [
            "Collecting python-Levenshtein\n",
            "  Downloading python_Levenshtein-0.25.1-py3-none-any.whl (9.4 kB)\n",
            "Collecting Levenshtein==0.25.1 (from python-Levenshtein)\n",
            "  Downloading Levenshtein-0.25.1-cp310-cp310-manylinux_2_17_x86_64.manylinux2014_x86_64.whl (177 kB)\n",
            "\u001b[2K     \u001b[90m━━━━━━━━━━━━━━━━━━━━━━━━━━━━━━━━━━━━━━━━\u001b[0m \u001b[32m177.4/177.4 kB\u001b[0m \u001b[31m1.2 MB/s\u001b[0m eta \u001b[36m0:00:00\u001b[0m\n",
            "\u001b[?25hCollecting rapidfuzz<4.0.0,>=3.8.0 (from Levenshtein==0.25.1->python-Levenshtein)\n",
            "  Downloading rapidfuzz-3.9.4-cp310-cp310-manylinux_2_17_x86_64.manylinux2014_x86_64.whl (3.4 MB)\n",
            "\u001b[2K     \u001b[90m━━━━━━━━━━━━━━━━━━━━━━━━━━━━━━━━━━━━━━━━\u001b[0m \u001b[32m3.4/3.4 MB\u001b[0m \u001b[31m12.3 MB/s\u001b[0m eta \u001b[36m0:00:00\u001b[0m\n",
            "\u001b[?25hInstalling collected packages: rapidfuzz, Levenshtein, python-Levenshtein\n",
            "Successfully installed Levenshtein-0.25.1 python-Levenshtein-0.25.1 rapidfuzz-3.9.4\n"
          ]
        }
      ]
    },
    {
      "cell_type": "code",
      "source": [
        "trainData = pd.read_csv('/content/Fraudulent_E-Commerce_Transaction_Data.csv')\n",
        "testData = pd.read_csv('/content/Fraudulent_E-Commerce_Transaction_Data_2.csv')"
      ],
      "metadata": {
        "id": "rRJyqlMtpyM-"
      },
      "execution_count": 10,
      "outputs": []
    },
    {
      "cell_type": "code",
      "source": [
        "trainData.isnull().sum()"
      ],
      "metadata": {
        "colab": {
          "base_uri": "https://localhost:8080/"
        },
        "collapsed": true,
        "id": "ClQdWMrmsTRL",
        "outputId": "60bd3ee9-fb36-48ec-96f5-5f5ce45cd8e1"
      },
      "execution_count": 14,
      "outputs": [
        {
          "output_type": "execute_result",
          "data": {
            "text/plain": [
              "Transaction ID        0\n",
              "Customer ID           0\n",
              "Transaction Amount    0\n",
              "Transaction Date      0\n",
              "Payment Method        0\n",
              "Product Category      0\n",
              "Quantity              0\n",
              "Customer Age          0\n",
              "Customer Location     0\n",
              "Device Used           0\n",
              "IP Address            0\n",
              "Shipping Address      0\n",
              "Billing Address       0\n",
              "Is Fraudulent         0\n",
              "Account Age Days      0\n",
              "Transaction Hour      0\n",
              "dtype: int64"
            ]
          },
          "metadata": {},
          "execution_count": 14
        }
      ]
    },
    {
      "cell_type": "code",
      "source": [
        "testData.isnull().sum()"
      ],
      "metadata": {
        "colab": {
          "base_uri": "https://localhost:8080/"
        },
        "id": "fPJFfCa8sfEx",
        "outputId": "6553da69-c2e3-41fd-9427-d03fcfdcb3bc"
      },
      "execution_count": 15,
      "outputs": [
        {
          "output_type": "execute_result",
          "data": {
            "text/plain": [
              "Transaction ID        0\n",
              "Customer ID           0\n",
              "Transaction Amount    0\n",
              "Transaction Date      0\n",
              "Payment Method        0\n",
              "Product Category      0\n",
              "Quantity              0\n",
              "Customer Age          0\n",
              "Customer Location     0\n",
              "Device Used           0\n",
              "IP Address            0\n",
              "Shipping Address      0\n",
              "Billing Address       0\n",
              "Is Fraudulent         0\n",
              "Account Age Days      0\n",
              "Transaction Hour      0\n",
              "dtype: int64"
            ]
          },
          "metadata": {},
          "execution_count": 15
        }
      ]
    },
    {
      "cell_type": "code",
      "source": [
        "trainData.head(2)"
      ],
      "metadata": {
        "colab": {
          "base_uri": "https://localhost:8080/",
          "height": 271
        },
        "id": "iUKE3HJmslWp",
        "outputId": "3d34940e-4a2c-4ee5-c64c-52d628ebd120"
      },
      "execution_count": 11,
      "outputs": [
        {
          "output_type": "execute_result",
          "data": {
            "text/plain": [
              "                         Transaction ID                           Customer ID  \\\n",
              "0  15d2e414-8735-46fc-9e02-80b472b2580f  d1b87f62-51b2-493b-ad6a-77e0fe13e785   \n",
              "1  0bfee1a0-6d5e-40da-a446-d04e73b1b177  37de64d5-e901-4a56-9ea0-af0c24c069cf   \n",
              "\n",
              "   Transaction Amount     Transaction Date Payment Method Product Category  \\\n",
              "0               58.09  2024-02-20 05:58:41  bank transfer      electronics   \n",
              "1              389.96  2024-02-25 08:09:45     debit card      electronics   \n",
              "\n",
              "   Quantity  Customer Age Customer Location Device Used       IP Address  \\\n",
              "0         1            17     Amandaborough      tablet   212.195.49.198   \n",
              "1         2            40      East Timothy     desktop  208.106.249.121   \n",
              "\n",
              "                          Shipping Address  \\\n",
              "0         Unit 8934 Box 0058\\nDPO AA 05437   \n",
              "1  634 May Keys\\nPort Cherylview, NV 75063   \n",
              "\n",
              "                           Billing Address  Is Fraudulent  Account Age Days  \\\n",
              "0         Unit 8934 Box 0058\\nDPO AA 05437              0                30   \n",
              "1  634 May Keys\\nPort Cherylview, NV 75063              0                72   \n",
              "\n",
              "   Transaction Hour  \n",
              "0                 5  \n",
              "1                 8  "
            ],
            "text/html": [
              "\n",
              "  <div id=\"df-0b03e4c1-ebf7-41d3-99f3-e1f633292af8\" class=\"colab-df-container\">\n",
              "    <div>\n",
              "<style scoped>\n",
              "    .dataframe tbody tr th:only-of-type {\n",
              "        vertical-align: middle;\n",
              "    }\n",
              "\n",
              "    .dataframe tbody tr th {\n",
              "        vertical-align: top;\n",
              "    }\n",
              "\n",
              "    .dataframe thead th {\n",
              "        text-align: right;\n",
              "    }\n",
              "</style>\n",
              "<table border=\"1\" class=\"dataframe\">\n",
              "  <thead>\n",
              "    <tr style=\"text-align: right;\">\n",
              "      <th></th>\n",
              "      <th>Transaction ID</th>\n",
              "      <th>Customer ID</th>\n",
              "      <th>Transaction Amount</th>\n",
              "      <th>Transaction Date</th>\n",
              "      <th>Payment Method</th>\n",
              "      <th>Product Category</th>\n",
              "      <th>Quantity</th>\n",
              "      <th>Customer Age</th>\n",
              "      <th>Customer Location</th>\n",
              "      <th>Device Used</th>\n",
              "      <th>IP Address</th>\n",
              "      <th>Shipping Address</th>\n",
              "      <th>Billing Address</th>\n",
              "      <th>Is Fraudulent</th>\n",
              "      <th>Account Age Days</th>\n",
              "      <th>Transaction Hour</th>\n",
              "    </tr>\n",
              "  </thead>\n",
              "  <tbody>\n",
              "    <tr>\n",
              "      <th>0</th>\n",
              "      <td>15d2e414-8735-46fc-9e02-80b472b2580f</td>\n",
              "      <td>d1b87f62-51b2-493b-ad6a-77e0fe13e785</td>\n",
              "      <td>58.09</td>\n",
              "      <td>2024-02-20 05:58:41</td>\n",
              "      <td>bank transfer</td>\n",
              "      <td>electronics</td>\n",
              "      <td>1</td>\n",
              "      <td>17</td>\n",
              "      <td>Amandaborough</td>\n",
              "      <td>tablet</td>\n",
              "      <td>212.195.49.198</td>\n",
              "      <td>Unit 8934 Box 0058\\nDPO AA 05437</td>\n",
              "      <td>Unit 8934 Box 0058\\nDPO AA 05437</td>\n",
              "      <td>0</td>\n",
              "      <td>30</td>\n",
              "      <td>5</td>\n",
              "    </tr>\n",
              "    <tr>\n",
              "      <th>1</th>\n",
              "      <td>0bfee1a0-6d5e-40da-a446-d04e73b1b177</td>\n",
              "      <td>37de64d5-e901-4a56-9ea0-af0c24c069cf</td>\n",
              "      <td>389.96</td>\n",
              "      <td>2024-02-25 08:09:45</td>\n",
              "      <td>debit card</td>\n",
              "      <td>electronics</td>\n",
              "      <td>2</td>\n",
              "      <td>40</td>\n",
              "      <td>East Timothy</td>\n",
              "      <td>desktop</td>\n",
              "      <td>208.106.249.121</td>\n",
              "      <td>634 May Keys\\nPort Cherylview, NV 75063</td>\n",
              "      <td>634 May Keys\\nPort Cherylview, NV 75063</td>\n",
              "      <td>0</td>\n",
              "      <td>72</td>\n",
              "      <td>8</td>\n",
              "    </tr>\n",
              "  </tbody>\n",
              "</table>\n",
              "</div>\n",
              "    <div class=\"colab-df-buttons\">\n",
              "\n",
              "  <div class=\"colab-df-container\">\n",
              "    <button class=\"colab-df-convert\" onclick=\"convertToInteractive('df-0b03e4c1-ebf7-41d3-99f3-e1f633292af8')\"\n",
              "            title=\"Convert this dataframe to an interactive table.\"\n",
              "            style=\"display:none;\">\n",
              "\n",
              "  <svg xmlns=\"http://www.w3.org/2000/svg\" height=\"24px\" viewBox=\"0 -960 960 960\">\n",
              "    <path d=\"M120-120v-720h720v720H120Zm60-500h600v-160H180v160Zm220 220h160v-160H400v160Zm0 220h160v-160H400v160ZM180-400h160v-160H180v160Zm440 0h160v-160H620v160ZM180-180h160v-160H180v160Zm440 0h160v-160H620v160Z\"/>\n",
              "  </svg>\n",
              "    </button>\n",
              "\n",
              "  <style>\n",
              "    .colab-df-container {\n",
              "      display:flex;\n",
              "      gap: 12px;\n",
              "    }\n",
              "\n",
              "    .colab-df-convert {\n",
              "      background-color: #E8F0FE;\n",
              "      border: none;\n",
              "      border-radius: 50%;\n",
              "      cursor: pointer;\n",
              "      display: none;\n",
              "      fill: #1967D2;\n",
              "      height: 32px;\n",
              "      padding: 0 0 0 0;\n",
              "      width: 32px;\n",
              "    }\n",
              "\n",
              "    .colab-df-convert:hover {\n",
              "      background-color: #E2EBFA;\n",
              "      box-shadow: 0px 1px 2px rgba(60, 64, 67, 0.3), 0px 1px 3px 1px rgba(60, 64, 67, 0.15);\n",
              "      fill: #174EA6;\n",
              "    }\n",
              "\n",
              "    .colab-df-buttons div {\n",
              "      margin-bottom: 4px;\n",
              "    }\n",
              "\n",
              "    [theme=dark] .colab-df-convert {\n",
              "      background-color: #3B4455;\n",
              "      fill: #D2E3FC;\n",
              "    }\n",
              "\n",
              "    [theme=dark] .colab-df-convert:hover {\n",
              "      background-color: #434B5C;\n",
              "      box-shadow: 0px 1px 3px 1px rgba(0, 0, 0, 0.15);\n",
              "      filter: drop-shadow(0px 1px 2px rgba(0, 0, 0, 0.3));\n",
              "      fill: #FFFFFF;\n",
              "    }\n",
              "  </style>\n",
              "\n",
              "    <script>\n",
              "      const buttonEl =\n",
              "        document.querySelector('#df-0b03e4c1-ebf7-41d3-99f3-e1f633292af8 button.colab-df-convert');\n",
              "      buttonEl.style.display =\n",
              "        google.colab.kernel.accessAllowed ? 'block' : 'none';\n",
              "\n",
              "      async function convertToInteractive(key) {\n",
              "        const element = document.querySelector('#df-0b03e4c1-ebf7-41d3-99f3-e1f633292af8');\n",
              "        const dataTable =\n",
              "          await google.colab.kernel.invokeFunction('convertToInteractive',\n",
              "                                                    [key], {});\n",
              "        if (!dataTable) return;\n",
              "\n",
              "        const docLinkHtml = 'Like what you see? Visit the ' +\n",
              "          '<a target=\"_blank\" href=https://colab.research.google.com/notebooks/data_table.ipynb>data table notebook</a>'\n",
              "          + ' to learn more about interactive tables.';\n",
              "        element.innerHTML = '';\n",
              "        dataTable['output_type'] = 'display_data';\n",
              "        await google.colab.output.renderOutput(dataTable, element);\n",
              "        const docLink = document.createElement('div');\n",
              "        docLink.innerHTML = docLinkHtml;\n",
              "        element.appendChild(docLink);\n",
              "      }\n",
              "    </script>\n",
              "  </div>\n",
              "\n",
              "\n",
              "<div id=\"df-e219e655-842f-4bc1-8bde-178cff3a2e96\">\n",
              "  <button class=\"colab-df-quickchart\" onclick=\"quickchart('df-e219e655-842f-4bc1-8bde-178cff3a2e96')\"\n",
              "            title=\"Suggest charts\"\n",
              "            style=\"display:none;\">\n",
              "\n",
              "<svg xmlns=\"http://www.w3.org/2000/svg\" height=\"24px\"viewBox=\"0 0 24 24\"\n",
              "     width=\"24px\">\n",
              "    <g>\n",
              "        <path d=\"M19 3H5c-1.1 0-2 .9-2 2v14c0 1.1.9 2 2 2h14c1.1 0 2-.9 2-2V5c0-1.1-.9-2-2-2zM9 17H7v-7h2v7zm4 0h-2V7h2v10zm4 0h-2v-4h2v4z\"/>\n",
              "    </g>\n",
              "</svg>\n",
              "  </button>\n",
              "\n",
              "<style>\n",
              "  .colab-df-quickchart {\n",
              "      --bg-color: #E8F0FE;\n",
              "      --fill-color: #1967D2;\n",
              "      --hover-bg-color: #E2EBFA;\n",
              "      --hover-fill-color: #174EA6;\n",
              "      --disabled-fill-color: #AAA;\n",
              "      --disabled-bg-color: #DDD;\n",
              "  }\n",
              "\n",
              "  [theme=dark] .colab-df-quickchart {\n",
              "      --bg-color: #3B4455;\n",
              "      --fill-color: #D2E3FC;\n",
              "      --hover-bg-color: #434B5C;\n",
              "      --hover-fill-color: #FFFFFF;\n",
              "      --disabled-bg-color: #3B4455;\n",
              "      --disabled-fill-color: #666;\n",
              "  }\n",
              "\n",
              "  .colab-df-quickchart {\n",
              "    background-color: var(--bg-color);\n",
              "    border: none;\n",
              "    border-radius: 50%;\n",
              "    cursor: pointer;\n",
              "    display: none;\n",
              "    fill: var(--fill-color);\n",
              "    height: 32px;\n",
              "    padding: 0;\n",
              "    width: 32px;\n",
              "  }\n",
              "\n",
              "  .colab-df-quickchart:hover {\n",
              "    background-color: var(--hover-bg-color);\n",
              "    box-shadow: 0 1px 2px rgba(60, 64, 67, 0.3), 0 1px 3px 1px rgba(60, 64, 67, 0.15);\n",
              "    fill: var(--button-hover-fill-color);\n",
              "  }\n",
              "\n",
              "  .colab-df-quickchart-complete:disabled,\n",
              "  .colab-df-quickchart-complete:disabled:hover {\n",
              "    background-color: var(--disabled-bg-color);\n",
              "    fill: var(--disabled-fill-color);\n",
              "    box-shadow: none;\n",
              "  }\n",
              "\n",
              "  .colab-df-spinner {\n",
              "    border: 2px solid var(--fill-color);\n",
              "    border-color: transparent;\n",
              "    border-bottom-color: var(--fill-color);\n",
              "    animation:\n",
              "      spin 1s steps(1) infinite;\n",
              "  }\n",
              "\n",
              "  @keyframes spin {\n",
              "    0% {\n",
              "      border-color: transparent;\n",
              "      border-bottom-color: var(--fill-color);\n",
              "      border-left-color: var(--fill-color);\n",
              "    }\n",
              "    20% {\n",
              "      border-color: transparent;\n",
              "      border-left-color: var(--fill-color);\n",
              "      border-top-color: var(--fill-color);\n",
              "    }\n",
              "    30% {\n",
              "      border-color: transparent;\n",
              "      border-left-color: var(--fill-color);\n",
              "      border-top-color: var(--fill-color);\n",
              "      border-right-color: var(--fill-color);\n",
              "    }\n",
              "    40% {\n",
              "      border-color: transparent;\n",
              "      border-right-color: var(--fill-color);\n",
              "      border-top-color: var(--fill-color);\n",
              "    }\n",
              "    60% {\n",
              "      border-color: transparent;\n",
              "      border-right-color: var(--fill-color);\n",
              "    }\n",
              "    80% {\n",
              "      border-color: transparent;\n",
              "      border-right-color: var(--fill-color);\n",
              "      border-bottom-color: var(--fill-color);\n",
              "    }\n",
              "    90% {\n",
              "      border-color: transparent;\n",
              "      border-bottom-color: var(--fill-color);\n",
              "    }\n",
              "  }\n",
              "</style>\n",
              "\n",
              "  <script>\n",
              "    async function quickchart(key) {\n",
              "      const quickchartButtonEl =\n",
              "        document.querySelector('#' + key + ' button');\n",
              "      quickchartButtonEl.disabled = true;  // To prevent multiple clicks.\n",
              "      quickchartButtonEl.classList.add('colab-df-spinner');\n",
              "      try {\n",
              "        const charts = await google.colab.kernel.invokeFunction(\n",
              "            'suggestCharts', [key], {});\n",
              "      } catch (error) {\n",
              "        console.error('Error during call to suggestCharts:', error);\n",
              "      }\n",
              "      quickchartButtonEl.classList.remove('colab-df-spinner');\n",
              "      quickchartButtonEl.classList.add('colab-df-quickchart-complete');\n",
              "    }\n",
              "    (() => {\n",
              "      let quickchartButtonEl =\n",
              "        document.querySelector('#df-e219e655-842f-4bc1-8bde-178cff3a2e96 button');\n",
              "      quickchartButtonEl.style.display =\n",
              "        google.colab.kernel.accessAllowed ? 'block' : 'none';\n",
              "    })();\n",
              "  </script>\n",
              "</div>\n",
              "\n",
              "    </div>\n",
              "  </div>\n"
            ],
            "application/vnd.google.colaboratory.intrinsic+json": {
              "type": "dataframe",
              "variable_name": "trainData"
            }
          },
          "metadata": {},
          "execution_count": 11
        }
      ]
    },
    {
      "cell_type": "code",
      "source": [
        "froud_data = trainData[trainData['Is Fraudulent'] == 1]\n",
        "not_froud_data = trainData[trainData['Is Fraudulent'] == 0]"
      ],
      "metadata": {
        "id": "nDYdxaCxl9TA"
      },
      "execution_count": 12,
      "outputs": []
    },
    {
      "cell_type": "code",
      "source": [
        "trainData = pd.concat([froud_data, not_froud_data.sample(73838)], axis=0)"
      ],
      "metadata": {
        "id": "YPsptCwDmYEG"
      },
      "execution_count": 13,
      "outputs": []
    },
    {
      "cell_type": "code",
      "source": [
        "trainData['Payment Method'].value_counts()"
      ],
      "metadata": {
        "colab": {
          "base_uri": "https://localhost:8080/"
        },
        "id": "2LfJYmDwsqch",
        "outputId": "c3f10d41-81d2-47af-841a-ffe4a13a3fbc"
      },
      "execution_count": 16,
      "outputs": [
        {
          "output_type": "execute_result",
          "data": {
            "text/plain": [
              "Payment Method\n",
              "debit card       37041\n",
              "bank transfer    36995\n",
              "credit card      36872\n",
              "PayPal           36768\n",
              "Name: count, dtype: int64"
            ]
          },
          "metadata": {},
          "execution_count": 16
        }
      ]
    },
    {
      "cell_type": "code",
      "source": [
        "trainData['Product Category'].value_counts()"
      ],
      "metadata": {
        "colab": {
          "base_uri": "https://localhost:8080/"
        },
        "id": "DbsgsHYytLgM",
        "outputId": "d6b2accc-819b-427d-b9dd-f4434d6136e0"
      },
      "execution_count": 17,
      "outputs": [
        {
          "output_type": "execute_result",
          "data": {
            "text/plain": [
              "Product Category\n",
              "health & beauty    29670\n",
              "toys & games       29666\n",
              "home & garden      29511\n",
              "electronics        29486\n",
              "clothing           29343\n",
              "Name: count, dtype: int64"
            ]
          },
          "metadata": {},
          "execution_count": 17
        }
      ]
    },
    {
      "cell_type": "code",
      "source": [
        "trainData['Customer Location'].value_counts()"
      ],
      "metadata": {
        "colab": {
          "base_uri": "https://localhost:8080/"
        },
        "id": "QxhGky-9t9WC",
        "outputId": "cff056b5-73bd-4878-9a0d-1fa06b7ce811"
      },
      "execution_count": 18,
      "outputs": [
        {
          "output_type": "execute_result",
          "data": {
            "text/plain": [
              "Customer Location\n",
              "East Michael          143\n",
              "Port Michael          136\n",
              "West Michael          126\n",
              "Lake Michael          120\n",
              "New Michael           119\n",
              "                     ... \n",
              "East Beverlyfurt        1\n",
              "Lake Franciscoberg      1\n",
              "East Susanfurt          1\n",
              "South Amberton          1\n",
              "Meaganshire             1\n",
              "Name: count, Length: 46537, dtype: int64"
            ]
          },
          "metadata": {},
          "execution_count": 18
        }
      ]
    },
    {
      "cell_type": "code",
      "source": [
        "trainData['Device Used'].value_counts()"
      ],
      "metadata": {
        "colab": {
          "base_uri": "https://localhost:8080/"
        },
        "id": "UvqdzUBWuESZ",
        "outputId": "24a8d3ec-974c-4c02-e19d-2593b9601a1c"
      },
      "execution_count": 19,
      "outputs": [
        {
          "output_type": "execute_result",
          "data": {
            "text/plain": [
              "Device Used\n",
              "mobile     49416\n",
              "tablet     49205\n",
              "desktop    49055\n",
              "Name: count, dtype: int64"
            ]
          },
          "metadata": {},
          "execution_count": 19
        }
      ]
    },
    {
      "cell_type": "code",
      "source": [
        "trainData['Is Fraudulent'].value_counts()"
      ],
      "metadata": {
        "colab": {
          "base_uri": "https://localhost:8080/"
        },
        "id": "Ib3Idy4XumFd",
        "outputId": "a0194d40-3222-4aef-be0a-4452b64184b5"
      },
      "execution_count": 20,
      "outputs": [
        {
          "output_type": "execute_result",
          "data": {
            "text/plain": [
              "Is Fraudulent\n",
              "1    73838\n",
              "0    73838\n",
              "Name: count, dtype: int64"
            ]
          },
          "metadata": {},
          "execution_count": 20
        }
      ]
    },
    {
      "cell_type": "code",
      "source": [
        "drop=['Transaction ID','Customer ID','IP Address', 'Transaction Date','Shipping Address', 'Billing Address']\n",
        "labelise = ['Payment Method', 'Product Category', 'Customer Location', 'Device Used']"
      ],
      "metadata": {
        "id": "PAtwvKFCutoS"
      },
      "execution_count": 21,
      "outputs": []
    },
    {
      "cell_type": "code",
      "source": [
        "def generate_labels(columns):\n",
        "  label_encode = LabelEncoder()\n",
        "  for column in columns:\n",
        "    label_encode.fit_transform(pd.concat([ trainData[column], testData[column] ], axis=0))\n",
        "    train_labels = label_encode.transform(trainData[column])\n",
        "    test_labels = label_encode.transform(testData[column])\n",
        "\n",
        "    trainData.drop(column,axis=1)\n",
        "    trainData[column]=train_labels\n",
        "\n",
        "    testData.drop(column,axis=1)\n",
        "    testData[column]=test_labels\n"
      ],
      "metadata": {
        "id": "q-lRoC98Rky6"
      },
      "execution_count": 22,
      "outputs": []
    },
    {
      "cell_type": "code",
      "source": [
        "def fix_date_time(ds):\n",
        "  ds['Transaction Month'] = pd.to_datetime(ds['Transaction Date'], format='%Y-%m-%d %H:%M:%S').dt.month\n",
        "  ds.drop('Transaction Date',axis=1)"
      ],
      "metadata": {
        "id": "mmeepr0iaaYV"
      },
      "execution_count": 23,
      "outputs": []
    },
    {
      "cell_type": "code",
      "source": [
        "def calculate_address_similarity(address1, address2):\n",
        "\n",
        "  address1 = address1.lower()\n",
        "  address2 = address2.lower()\n",
        "  return distance(address1, address2)/max(len(address1),len(address2))\n",
        "\n",
        "def compare_addresses(df):\n",
        "  col1_name='Shipping Address'\n",
        "  col2_name='Billing Address'\n",
        "  new_col_name='Shipping-Billing-Simalarity'\n",
        "  df[new_col_name] = df.apply(lambda row: calculate_address_similarity(row[col1_name], row[col2_name]), axis=1)\n",
        "  return df"
      ],
      "metadata": {
        "id": "A_yCpcMaeA5i"
      },
      "execution_count": 24,
      "outputs": []
    },
    {
      "cell_type": "code",
      "source": [
        "generate_labels(labelise)\n",
        "\n",
        "fix_date_time(testData)\n",
        "fix_date_time(trainData)\n",
        "\n",
        "testData=compare_addresses(testData)\n",
        "trainData=compare_addresses(trainData)\n",
        "\n",
        "trainData = trainData.drop(drop,axis=1)\n",
        "testData = testData.drop(drop,axis=1)"
      ],
      "metadata": {
        "id": "NYcWaVXy4iHV"
      },
      "execution_count": 25,
      "outputs": []
    },
    {
      "cell_type": "code",
      "source": [
        "froud_data = trainData[trainData['Is Fraudulent'] == 1]\n",
        "not_froud_data = trainData[trainData['Is Fraudulent'] == 0]"
      ],
      "metadata": {
        "id": "uj5krWjZDFnU"
      },
      "execution_count": 26,
      "outputs": []
    },
    {
      "cell_type": "code",
      "source": [
        "trainData = pd.concat([froud_data, not_froud_data.sample(73838)], axis=0)"
      ],
      "metadata": {
        "id": "0_q9F_BqDGqn"
      },
      "execution_count": 27,
      "outputs": []
    },
    {
      "cell_type": "code",
      "source": [
        "train_x = trainData.drop('Is Fraudulent',axis=1)\n",
        "train_y = trainData['Is Fraudulent']\n",
        "test_x = testData.drop('Is Fraudulent',axis=1)\n",
        "test_y = testData['Is Fraudulent']"
      ],
      "metadata": {
        "id": "QKjfITXv2HGy"
      },
      "execution_count": 28,
      "outputs": []
    },
    {
      "cell_type": "code",
      "source": [
        "print(train_x.shape)\n",
        "print(test_x.shape)"
      ],
      "metadata": {
        "colab": {
          "base_uri": "https://localhost:8080/"
        },
        "id": "sIUidn1t14pt",
        "outputId": "e05d9977-7574-4853-db5d-23192f0d5810"
      },
      "execution_count": null,
      "outputs": [
        {
          "output_type": "stream",
          "name": "stdout",
          "text": [
            "(147676, 11)\n",
            "(23634, 11)\n"
          ]
        }
      ]
    },
    {
      "cell_type": "markdown",
      "source": [
        "DATA GRAPHS"
      ],
      "metadata": {
        "id": "q2iBTuBDcVic"
      }
    },
    {
      "cell_type": "code",
      "source": [
        "coor = trainData.corr()\n",
        "plt.figure(figsize=(15,10))\n",
        "sns.heatmap(coor, annot=True, cmap='coolwarm')"
      ],
      "metadata": {
        "colab": {
          "base_uri": "https://localhost:8080/",
          "height": 892
        },
        "id": "TjDEqUiFzWye",
        "outputId": "97bd7ffe-acaf-44d3-b88f-08883cbf8109"
      },
      "execution_count": 23,
      "outputs": [
        {
          "output_type": "execute_result",
          "data": {
            "text/plain": [
              "<Axes: >"
            ]
          },
          "metadata": {},
          "execution_count": 23
        },
        {
          "output_type": "display_data",
          "data": {
            "text/plain": [
              "<Figure size 1500x1000 with 2 Axes>"
            ],
            "image/png": "[encoded data removed]"
          },
          "metadata": {}
        }
      ]
    },
    {
      "cell_type": "code",
      "source": [],
      "metadata": {
        "id": "DAseX4243o_b"
      },
      "execution_count": null,
      "outputs": []
    },
    {
      "cell_type": "code",
      "source": [
        "trainData.head(2)"
      ],
      "metadata": {
        "colab": {
          "base_uri": "https://localhost:8080/",
          "height": 147
        },
        "id": "Hu5VjM49kuvs",
        "outputId": "e27e8c74-843d-40e5-efa9-09186128ce66"
      },
      "execution_count": 29,
      "outputs": [
        {
          "output_type": "execute_result",
          "data": {
            "text/plain": [
              "    Transaction Amount  Payment Method  Product Category  Quantity  \\\n",
              "32               31.08               0                 0         2   \n",
              "68              839.30               1                 2         2   \n",
              "\n",
              "    Customer Age  Customer Location  Device Used  Is Fraudulent  \\\n",
              "32            32              17386            2              1   \n",
              "68            36              39270            1              1   \n",
              "\n",
              "    Account Age Days  Transaction Hour  Transaction Month  \\\n",
              "32               147                13                  1   \n",
              "68                65                 1                  3   \n",
              "\n",
              "    Shipping-Billing-Simalarity  \n",
              "32                          0.0  \n",
              "68                          0.0  "
            ],
            "text/html": [
              "\n",
              "  <div id=\"df-b19994fa-70b2-4148-8aac-2dfaa97be8b3\" class=\"colab-df-container\">\n",
              "    <div>\n",
              "<style scoped>\n",
              "    .dataframe tbody tr th:only-of-type {\n",
              "        vertical-align: middle;\n",
              "    }\n",
              "\n",
              "    .dataframe tbody tr th {\n",
              "        vertical-align: top;\n",
              "    }\n",
              "\n",
              "    .dataframe thead th {\n",
              "        text-align: right;\n",
              "    }\n",
              "</style>\n",
              "<table border=\"1\" class=\"dataframe\">\n",
              "  <thead>\n",
              "    <tr style=\"text-align: right;\">\n",
              "      <th></th>\n",
              "      <th>Transaction Amount</th>\n",
              "      <th>Payment Method</th>\n",
              "      <th>Product Category</th>\n",
              "      <th>Quantity</th>\n",
              "      <th>Customer Age</th>\n",
              "      <th>Customer Location</th>\n",
              "      <th>Device Used</th>\n",
              "      <th>Is Fraudulent</th>\n",
              "      <th>Account Age Days</th>\n",
              "      <th>Transaction Hour</th>\n",
              "      <th>Transaction Month</th>\n",
              "      <th>Shipping-Billing-Simalarity</th>\n",
              "    </tr>\n",
              "  </thead>\n",
              "  <tbody>\n",
              "    <tr>\n",
              "      <th>32</th>\n",
              "      <td>31.08</td>\n",
              "      <td>0</td>\n",
              "      <td>0</td>\n",
              "      <td>2</td>\n",
              "      <td>32</td>\n",
              "      <td>17386</td>\n",
              "      <td>2</td>\n",
              "      <td>1</td>\n",
              "      <td>147</td>\n",
              "      <td>13</td>\n",
              "      <td>1</td>\n",
              "      <td>0.0</td>\n",
              "    </tr>\n",
              "    <tr>\n",
              "      <th>68</th>\n",
              "      <td>839.30</td>\n",
              "      <td>1</td>\n",
              "      <td>2</td>\n",
              "      <td>2</td>\n",
              "      <td>36</td>\n",
              "      <td>39270</td>\n",
              "      <td>1</td>\n",
              "      <td>1</td>\n",
              "      <td>65</td>\n",
              "      <td>1</td>\n",
              "      <td>3</td>\n",
              "      <td>0.0</td>\n",
              "    </tr>\n",
              "  </tbody>\n",
              "</table>\n",
              "</div>\n",
              "    <div class=\"colab-df-buttons\">\n",
              "\n",
              "  <div class=\"colab-df-container\">\n",
              "    <button class=\"colab-df-convert\" onclick=\"convertToInteractive('df-b19994fa-70b2-4148-8aac-2dfaa97be8b3')\"\n",
              "            title=\"Convert this dataframe to an interactive table.\"\n",
              "            style=\"display:none;\">\n",
              "\n",
              "  <svg xmlns=\"http://www.w3.org/2000/svg\" height=\"24px\" viewBox=\"0 -960 960 960\">\n",
              "    <path d=\"M120-120v-720h720v720H120Zm60-500h600v-160H180v160Zm220 220h160v-160H400v160Zm0 220h160v-160H400v160ZM180-400h160v-160H180v160Zm440 0h160v-160H620v160ZM180-180h160v-160H180v160Zm440 0h160v-160H620v160Z\"/>\n",
              "  </svg>\n",
              "    </button>\n",
              "\n",
              "  <style>\n",
              "    .colab-df-container {\n",
              "      display:flex;\n",
              "      gap: 12px;\n",
              "    }\n",
              "\n",
              "    .colab-df-convert {\n",
              "      background-color: #E8F0FE;\n",
              "      border: none;\n",
              "      border-radius: 50%;\n",
              "      cursor: pointer;\n",
              "      display: none;\n",
              "      fill: #1967D2;\n",
              "      height: 32px;\n",
              "      padding: 0 0 0 0;\n",
              "      width: 32px;\n",
              "    }\n",
              "\n",
              "    .colab-df-convert:hover {\n",
              "      background-color: #E2EBFA;\n",
              "      box-shadow: 0px 1px 2px rgba(60, 64, 67, 0.3), 0px 1px 3px 1px rgba(60, 64, 67, 0.15);\n",
              "      fill: #174EA6;\n",
              "    }\n",
              "\n",
              "    .colab-df-buttons div {\n",
              "      margin-bottom: 4px;\n",
              "    }\n",
              "\n",
              "    [theme=dark] .colab-df-convert {\n",
              "      background-color: #3B4455;\n",
              "      fill: #D2E3FC;\n",
              "    }\n",
              "\n",
              "    [theme=dark] .colab-df-convert:hover {\n",
              "      background-color: #434B5C;\n",
              "      box-shadow: 0px 1px 3px 1px rgba(0, 0, 0, 0.15);\n",
              "      filter: drop-shadow(0px 1px 2px rgba(0, 0, 0, 0.3));\n",
              "      fill: #FFFFFF;\n",
              "    }\n",
              "  </style>\n",
              "\n",
              "    <script>\n",
              "      const buttonEl =\n",
              "        document.querySelector('#df-b19994fa-70b2-4148-8aac-2dfaa97be8b3 button.colab-df-convert');\n",
              "      buttonEl.style.display =\n",
              "        google.colab.kernel.accessAllowed ? 'block' : 'none';\n",
              "\n",
              "      async function convertToInteractive(key) {\n",
              "        const element = document.querySelector('#df-b19994fa-70b2-4148-8aac-2dfaa97be8b3');\n",
              "        const dataTable =\n",
              "          await google.colab.kernel.invokeFunction('convertToInteractive',\n",
              "                                                    [key], {});\n",
              "        if (!dataTable) return;\n",
              "\n",
              "        const docLinkHtml = 'Like what you see? Visit the ' +\n",
              "          '<a target=\"_blank\" href=https://colab.research.google.com/notebooks/data_table.ipynb>data table notebook</a>'\n",
              "          + ' to learn more about interactive tables.';\n",
              "        element.innerHTML = '';\n",
              "        dataTable['output_type'] = 'display_data';\n",
              "        await google.colab.output.renderOutput(dataTable, element);\n",
              "        const docLink = document.createElement('div');\n",
              "        docLink.innerHTML = docLinkHtml;\n",
              "        element.appendChild(docLink);\n",
              "      }\n",
              "    </script>\n",
              "  </div>\n",
              "\n",
              "\n",
              "<div id=\"df-ca530880-0e17-4f31-8198-5aedfce8ef05\">\n",
              "  <button class=\"colab-df-quickchart\" onclick=\"quickchart('df-ca530880-0e17-4f31-8198-5aedfce8ef05')\"\n",
              "            title=\"Suggest charts\"\n",
              "            style=\"display:none;\">\n",
              "\n",
              "<svg xmlns=\"http://www.w3.org/2000/svg\" height=\"24px\"viewBox=\"0 0 24 24\"\n",
              "     width=\"24px\">\n",
              "    <g>\n",
              "        <path d=\"M19 3H5c-1.1 0-2 .9-2 2v14c0 1.1.9 2 2 2h14c1.1 0 2-.9 2-2V5c0-1.1-.9-2-2-2zM9 17H7v-7h2v7zm4 0h-2V7h2v10zm4 0h-2v-4h2v4z\"/>\n",
              "    </g>\n",
              "</svg>\n",
              "  </button>\n",
              "\n",
              "<style>\n",
              "  .colab-df-quickchart {\n",
              "      --bg-color: #E8F0FE;\n",
              "      --fill-color: #1967D2;\n",
              "      --hover-bg-color: #E2EBFA;\n",
              "      --hover-fill-color: #174EA6;\n",
              "      --disabled-fill-color: #AAA;\n",
              "      --disabled-bg-color: #DDD;\n",
              "  }\n",
              "\n",
              "  [theme=dark] .colab-df-quickchart {\n",
              "      --bg-color: #3B4455;\n",
              "      --fill-color: #D2E3FC;\n",
              "      --hover-bg-color: #434B5C;\n",
              "      --hover-fill-color: #FFFFFF;\n",
              "      --disabled-bg-color: #3B4455;\n",
              "      --disabled-fill-color: #666;\n",
              "  }\n",
              "\n",
              "  .colab-df-quickchart {\n",
              "    background-color: var(--bg-color);\n",
              "    border: none;\n",
              "    border-radius: 50%;\n",
              "    cursor: pointer;\n",
              "    display: none;\n",
              "    fill: var(--fill-color);\n",
              "    height: 32px;\n",
              "    padding: 0;\n",
              "    width: 32px;\n",
              "  }\n",
              "\n",
              "  .colab-df-quickchart:hover {\n",
              "    background-color: var(--hover-bg-color);\n",
              "    box-shadow: 0 1px 2px rgba(60, 64, 67, 0.3), 0 1px 3px 1px rgba(60, 64, 67, 0.15);\n",
              "    fill: var(--button-hover-fill-color);\n",
              "  }\n",
              "\n",
              "  .colab-df-quickchart-complete:disabled,\n",
              "  .colab-df-quickchart-complete:disabled:hover {\n",
              "    background-color: var(--disabled-bg-color);\n",
              "    fill: var(--disabled-fill-color);\n",
              "    box-shadow: none;\n",
              "  }\n",
              "\n",
              "  .colab-df-spinner {\n",
              "    border: 2px solid var(--fill-color);\n",
              "    border-color: transparent;\n",
              "    border-bottom-color: var(--fill-color);\n",
              "    animation:\n",
              "      spin 1s steps(1) infinite;\n",
              "  }\n",
              "\n",
              "  @keyframes spin {\n",
              "    0% {\n",
              "      border-color: transparent;\n",
              "      border-bottom-color: var(--fill-color);\n",
              "      border-left-color: var(--fill-color);\n",
              "    }\n",
              "    20% {\n",
              "      border-color: transparent;\n",
              "      border-left-color: var(--fill-color);\n",
              "      border-top-color: var(--fill-color);\n",
              "    }\n",
              "    30% {\n",
              "      border-color: transparent;\n",
              "      border-left-color: var(--fill-color);\n",
              "      border-top-color: var(--fill-color);\n",
              "      border-right-color: var(--fill-color);\n",
              "    }\n",
              "    40% {\n",
              "      border-color: transparent;\n",
              "      border-right-color: var(--fill-color);\n",
              "      border-top-color: var(--fill-color);\n",
              "    }\n",
              "    60% {\n",
              "      border-color: transparent;\n",
              "      border-right-color: var(--fill-color);\n",
              "    }\n",
              "    80% {\n",
              "      border-color: transparent;\n",
              "      border-right-color: var(--fill-color);\n",
              "      border-bottom-color: var(--fill-color);\n",
              "    }\n",
              "    90% {\n",
              "      border-color: transparent;\n",
              "      border-bottom-color: var(--fill-color);\n",
              "    }\n",
              "  }\n",
              "</style>\n",
              "\n",
              "  <script>\n",
              "    async function quickchart(key) {\n",
              "      const quickchartButtonEl =\n",
              "        document.querySelector('#' + key + ' button');\n",
              "      quickchartButtonEl.disabled = true;  // To prevent multiple clicks.\n",
              "      quickchartButtonEl.classList.add('colab-df-spinner');\n",
              "      try {\n",
              "        const charts = await google.colab.kernel.invokeFunction(\n",
              "            'suggestCharts', [key], {});\n",
              "      } catch (error) {\n",
              "        console.error('Error during call to suggestCharts:', error);\n",
              "      }\n",
              "      quickchartButtonEl.classList.remove('colab-df-spinner');\n",
              "      quickchartButtonEl.classList.add('colab-df-quickchart-complete');\n",
              "    }\n",
              "    (() => {\n",
              "      let quickchartButtonEl =\n",
              "        document.querySelector('#df-ca530880-0e17-4f31-8198-5aedfce8ef05 button');\n",
              "      quickchartButtonEl.style.display =\n",
              "        google.colab.kernel.accessAllowed ? 'block' : 'none';\n",
              "    })();\n",
              "  </script>\n",
              "</div>\n",
              "\n",
              "    </div>\n",
              "  </div>\n"
            ],
            "application/vnd.google.colaboratory.intrinsic+json": {
              "type": "dataframe",
              "variable_name": "trainData"
            }
          },
          "metadata": {},
          "execution_count": 29
        }
      ]
    },
    {
      "cell_type": "code",
      "source": [
        "train_x.head()"
      ],
      "metadata": {
        "colab": {
          "base_uri": "https://localhost:8080/",
          "height": 241
        },
        "id": "JbzGAsBUJ8n2",
        "outputId": "f376f096-1da5-4ec2-aeb4-c4b03c7d7124"
      },
      "execution_count": 30,
      "outputs": [
        {
          "output_type": "execute_result",
          "data": {
            "text/plain": [
              "     Transaction Amount  Payment Method  Product Category  Quantity  \\\n",
              "32                31.08               0                 0         2   \n",
              "68               839.30               1                 2         2   \n",
              "85               379.00               3                 3         4   \n",
              "92                46.26               2                 0         2   \n",
              "191             2038.00               2                 2         1   \n",
              "\n",
              "     Customer Age  Customer Location  Device Used  Account Age Days  \\\n",
              "32             32              17386            2               147   \n",
              "68             36              39270            1                65   \n",
              "85             37               3823            0                30   \n",
              "92             30              30314            2                12   \n",
              "191            32              43361            1                 9   \n",
              "\n",
              "     Transaction Hour  Transaction Month  Shipping-Billing-Simalarity  \n",
              "32                 13                  1                     0.000000  \n",
              "68                  1                  3                     0.000000  \n",
              "85                 20                  1                     0.000000  \n",
              "92                 10                  1                     0.000000  \n",
              "191                17                  1                     0.785714  "
            ],
            "text/html": [
              "\n",
              "  <div id=\"df-e4994965-e217-44a8-bd26-7455ba664c30\" class=\"colab-df-container\">\n",
              "    <div>\n",
              "<style scoped>\n",
              "    .dataframe tbody tr th:only-of-type {\n",
              "        vertical-align: middle;\n",
              "    }\n",
              "\n",
              "    .dataframe tbody tr th {\n",
              "        vertical-align: top;\n",
              "    }\n",
              "\n",
              "    .dataframe thead th {\n",
              "        text-align: right;\n",
              "    }\n",
              "</style>\n",
              "<table border=\"1\" class=\"dataframe\">\n",
              "  <thead>\n",
              "    <tr style=\"text-align: right;\">\n",
              "      <th></th>\n",
              "      <th>Transaction Amount</th>\n",
              "      <th>Payment Method</th>\n",
              "      <th>Product Category</th>\n",
              "      <th>Quantity</th>\n",
              "      <th>Customer Age</th>\n",
              "      <th>Customer Location</th>\n",
              "      <th>Device Used</th>\n",
              "      <th>Account Age Days</th>\n",
              "      <th>Transaction Hour</th>\n",
              "      <th>Transaction Month</th>\n",
              "      <th>Shipping-Billing-Simalarity</th>\n",
              "    </tr>\n",
              "  </thead>\n",
              "  <tbody>\n",
              "    <tr>\n",
              "      <th>32</th>\n",
              "      <td>31.08</td>\n",
              "      <td>0</td>\n",
              "      <td>0</td>\n",
              "      <td>2</td>\n",
              "      <td>32</td>\n",
              "      <td>17386</td>\n",
              "      <td>2</td>\n",
              "      <td>147</td>\n",
              "      <td>13</td>\n",
              "      <td>1</td>\n",
              "      <td>0.000000</td>\n",
              "    </tr>\n",
              "    <tr>\n",
              "      <th>68</th>\n",
              "      <td>839.30</td>\n",
              "      <td>1</td>\n",
              "      <td>2</td>\n",
              "      <td>2</td>\n",
              "      <td>36</td>\n",
              "      <td>39270</td>\n",
              "      <td>1</td>\n",
              "      <td>65</td>\n",
              "      <td>1</td>\n",
              "      <td>3</td>\n",
              "      <td>0.000000</td>\n",
              "    </tr>\n",
              "    <tr>\n",
              "      <th>85</th>\n",
              "      <td>379.00</td>\n",
              "      <td>3</td>\n",
              "      <td>3</td>\n",
              "      <td>4</td>\n",
              "      <td>37</td>\n",
              "      <td>3823</td>\n",
              "      <td>0</td>\n",
              "      <td>30</td>\n",
              "      <td>20</td>\n",
              "      <td>1</td>\n",
              "      <td>0.000000</td>\n",
              "    </tr>\n",
              "    <tr>\n",
              "      <th>92</th>\n",
              "      <td>46.26</td>\n",
              "      <td>2</td>\n",
              "      <td>0</td>\n",
              "      <td>2</td>\n",
              "      <td>30</td>\n",
              "      <td>30314</td>\n",
              "      <td>2</td>\n",
              "      <td>12</td>\n",
              "      <td>10</td>\n",
              "      <td>1</td>\n",
              "      <td>0.000000</td>\n",
              "    </tr>\n",
              "    <tr>\n",
              "      <th>191</th>\n",
              "      <td>2038.00</td>\n",
              "      <td>2</td>\n",
              "      <td>2</td>\n",
              "      <td>1</td>\n",
              "      <td>32</td>\n",
              "      <td>43361</td>\n",
              "      <td>1</td>\n",
              "      <td>9</td>\n",
              "      <td>17</td>\n",
              "      <td>1</td>\n",
              "      <td>0.785714</td>\n",
              "    </tr>\n",
              "  </tbody>\n",
              "</table>\n",
              "</div>\n",
              "    <div class=\"colab-df-buttons\">\n",
              "\n",
              "  <div class=\"colab-df-container\">\n",
              "    <button class=\"colab-df-convert\" onclick=\"convertToInteractive('df-e4994965-e217-44a8-bd26-7455ba664c30')\"\n",
              "            title=\"Convert this dataframe to an interactive table.\"\n",
              "            style=\"display:none;\">\n",
              "\n",
              "  <svg xmlns=\"http://www.w3.org/2000/svg\" height=\"24px\" viewBox=\"0 -960 960 960\">\n",
              "    <path d=\"M120-120v-720h720v720H120Zm60-500h600v-160H180v160Zm220 220h160v-160H400v160Zm0 220h160v-160H400v160ZM180-400h160v-160H180v160Zm440 0h160v-160H620v160ZM180-180h160v-160H180v160Zm440 0h160v-160H620v160Z\"/>\n",
              "  </svg>\n",
              "    </button>\n",
              "\n",
              "  <style>\n",
              "    .colab-df-container {\n",
              "      display:flex;\n",
              "      gap: 12px;\n",
              "    }\n",
              "\n",
              "    .colab-df-convert {\n",
              "      background-color: #E8F0FE;\n",
              "      border: none;\n",
              "      border-radius: 50%;\n",
              "      cursor: pointer;\n",
              "      display: none;\n",
              "      fill: #1967D2;\n",
              "      height: 32px;\n",
              "      padding: 0 0 0 0;\n",
              "      width: 32px;\n",
              "    }\n",
              "\n",
              "    .colab-df-convert:hover {\n",
              "      background-color: #E2EBFA;\n",
              "      box-shadow: 0px 1px 2px rgba(60, 64, 67, 0.3), 0px 1px 3px 1px rgba(60, 64, 67, 0.15);\n",
              "      fill: #174EA6;\n",
              "    }\n",
              "\n",
              "    .colab-df-buttons div {\n",
              "      margin-bottom: 4px;\n",
              "    }\n",
              "\n",
              "    [theme=dark] .colab-df-convert {\n",
              "      background-color: #3B4455;\n",
              "      fill: #D2E3FC;\n",
              "    }\n",
              "\n",
              "    [theme=dark] .colab-df-convert:hover {\n",
              "      background-color: #434B5C;\n",
              "      box-shadow: 0px 1px 3px 1px rgba(0, 0, 0, 0.15);\n",
              "      filter: drop-shadow(0px 1px 2px rgba(0, 0, 0, 0.3));\n",
              "      fill: #FFFFFF;\n",
              "    }\n",
              "  </style>\n",
              "\n",
              "    <script>\n",
              "      const buttonEl =\n",
              "        document.querySelector('#df-e4994965-e217-44a8-bd26-7455ba664c30 button.colab-df-convert');\n",
              "      buttonEl.style.display =\n",
              "        google.colab.kernel.accessAllowed ? 'block' : 'none';\n",
              "\n",
              "      async function convertToInteractive(key) {\n",
              "        const element = document.querySelector('#df-e4994965-e217-44a8-bd26-7455ba664c30');\n",
              "        const dataTable =\n",
              "          await google.colab.kernel.invokeFunction('convertToInteractive',\n",
              "                                                    [key], {});\n",
              "        if (!dataTable) return;\n",
              "\n",
              "        const docLinkHtml = 'Like what you see? Visit the ' +\n",
              "          '<a target=\"_blank\" href=https://colab.research.google.com/notebooks/data_table.ipynb>data table notebook</a>'\n",
              "          + ' to learn more about interactive tables.';\n",
              "        element.innerHTML = '';\n",
              "        dataTable['output_type'] = 'display_data';\n",
              "        await google.colab.output.renderOutput(dataTable, element);\n",
              "        const docLink = document.createElement('div');\n",
              "        docLink.innerHTML = docLinkHtml;\n",
              "        element.appendChild(docLink);\n",
              "      }\n",
              "    </script>\n",
              "  </div>\n",
              "\n",
              "\n",
              "<div id=\"df-67291531-bd75-480e-9ba5-605d14274ea5\">\n",
              "  <button class=\"colab-df-quickchart\" onclick=\"quickchart('df-67291531-bd75-480e-9ba5-605d14274ea5')\"\n",
              "            title=\"Suggest charts\"\n",
              "            style=\"display:none;\">\n",
              "\n",
              "<svg xmlns=\"http://www.w3.org/2000/svg\" height=\"24px\"viewBox=\"0 0 24 24\"\n",
              "     width=\"24px\">\n",
              "    <g>\n",
              "        <path d=\"M19 3H5c-1.1 0-2 .9-2 2v14c0 1.1.9 2 2 2h14c1.1 0 2-.9 2-2V5c0-1.1-.9-2-2-2zM9 17H7v-7h2v7zm4 0h-2V7h2v10zm4 0h-2v-4h2v4z\"/>\n",
              "    </g>\n",
              "</svg>\n",
              "  </button>\n",
              "\n",
              "<style>\n",
              "  .colab-df-quickchart {\n",
              "      --bg-color: #E8F0FE;\n",
              "      --fill-color: #1967D2;\n",
              "      --hover-bg-color: #E2EBFA;\n",
              "      --hover-fill-color: #174EA6;\n",
              "      --disabled-fill-color: #AAA;\n",
              "      --disabled-bg-color: #DDD;\n",
              "  }\n",
              "\n",
              "  [theme=dark] .colab-df-quickchart {\n",
              "      --bg-color: #3B4455;\n",
              "      --fill-color: #D2E3FC;\n",
              "      --hover-bg-color: #434B5C;\n",
              "      --hover-fill-color: #FFFFFF;\n",
              "      --disabled-bg-color: #3B4455;\n",
              "      --disabled-fill-color: #666;\n",
              "  }\n",
              "\n",
              "  .colab-df-quickchart {\n",
              "    background-color: var(--bg-color);\n",
              "    border: none;\n",
              "    border-radius: 50%;\n",
              "    cursor: pointer;\n",
              "    display: none;\n",
              "    fill: var(--fill-color);\n",
              "    height: 32px;\n",
              "    padding: 0;\n",
              "    width: 32px;\n",
              "  }\n",
              "\n",
              "  .colab-df-quickchart:hover {\n",
              "    background-color: var(--hover-bg-color);\n",
              "    box-shadow: 0 1px 2px rgba(60, 64, 67, 0.3), 0 1px 3px 1px rgba(60, 64, 67, 0.15);\n",
              "    fill: var(--button-hover-fill-color);\n",
              "  }\n",
              "\n",
              "  .colab-df-quickchart-complete:disabled,\n",
              "  .colab-df-quickchart-complete:disabled:hover {\n",
              "    background-color: var(--disabled-bg-color);\n",
              "    fill: var(--disabled-fill-color);\n",
              "    box-shadow: none;\n",
              "  }\n",
              "\n",
              "  .colab-df-spinner {\n",
              "    border: 2px solid var(--fill-color);\n",
              "    border-color: transparent;\n",
              "    border-bottom-color: var(--fill-color);\n",
              "    animation:\n",
              "      spin 1s steps(1) infinite;\n",
              "  }\n",
              "\n",
              "  @keyframes spin {\n",
              "    0% {\n",
              "      border-color: transparent;\n",
              "      border-bottom-color: var(--fill-color);\n",
              "      border-left-color: var(--fill-color);\n",
              "    }\n",
              "    20% {\n",
              "      border-color: transparent;\n",
              "      border-left-color: var(--fill-color);\n",
              "      border-top-color: var(--fill-color);\n",
              "    }\n",
              "    30% {\n",
              "      border-color: transparent;\n",
              "      border-left-color: var(--fill-color);\n",
              "      border-top-color: var(--fill-color);\n",
              "      border-right-color: var(--fill-color);\n",
              "    }\n",
              "    40% {\n",
              "      border-color: transparent;\n",
              "      border-right-color: var(--fill-color);\n",
              "      border-top-color: var(--fill-color);\n",
              "    }\n",
              "    60% {\n",
              "      border-color: transparent;\n",
              "      border-right-color: var(--fill-color);\n",
              "    }\n",
              "    80% {\n",
              "      border-color: transparent;\n",
              "      border-right-color: var(--fill-color);\n",
              "      border-bottom-color: var(--fill-color);\n",
              "    }\n",
              "    90% {\n",
              "      border-color: transparent;\n",
              "      border-bottom-color: var(--fill-color);\n",
              "    }\n",
              "  }\n",
              "</style>\n",
              "\n",
              "  <script>\n",
              "    async function quickchart(key) {\n",
              "      const quickchartButtonEl =\n",
              "        document.querySelector('#' + key + ' button');\n",
              "      quickchartButtonEl.disabled = true;  // To prevent multiple clicks.\n",
              "      quickchartButtonEl.classList.add('colab-df-spinner');\n",
              "      try {\n",
              "        const charts = await google.colab.kernel.invokeFunction(\n",
              "            'suggestCharts', [key], {});\n",
              "      } catch (error) {\n",
              "        console.error('Error during call to suggestCharts:', error);\n",
              "      }\n",
              "      quickchartButtonEl.classList.remove('colab-df-spinner');\n",
              "      quickchartButtonEl.classList.add('colab-df-quickchart-complete');\n",
              "    }\n",
              "    (() => {\n",
              "      let quickchartButtonEl =\n",
              "        document.querySelector('#df-67291531-bd75-480e-9ba5-605d14274ea5 button');\n",
              "      quickchartButtonEl.style.display =\n",
              "        google.colab.kernel.accessAllowed ? 'block' : 'none';\n",
              "    })();\n",
              "  </script>\n",
              "</div>\n",
              "\n",
              "    </div>\n",
              "  </div>\n"
            ],
            "application/vnd.google.colaboratory.intrinsic+json": {
              "type": "dataframe",
              "variable_name": "train_x"
            }
          },
          "metadata": {},
          "execution_count": 30
        }
      ]
    },
    {
      "cell_type": "code",
      "source": [
        "colors = ['blue', 'red']\n",
        "data_count=len(froud_data)\n",
        "x1 = list(froud_data['Shipping-Billing-Simalarity'])\n",
        "y1 = list(froud_data['Account Age Days'])\n",
        "x2 = list(not_froud_data['Shipping-Billing-Simalarity'])\n",
        "y2 = list(not_froud_data['Account Age Days'])\n",
        "\n",
        "fig, ax = plt.subplots(nrows=1, ncols=2)\n",
        "ax[0].scatter(x1, y1, c=colors[1])\n",
        "ax[0].set_title(\"froud data\")\n",
        "ax[0].set_xlabel(\"Shipping-Billing-Simalarity\")\n",
        "ax[0].set_ylabel(\"Account Age Days\")\n",
        "\n",
        "\n",
        "ax[1].scatter(x2, y2, c=colors[0])\n",
        "ax[1].set_title(\"not froud data\")\n",
        "ax[1].set_xlabel(\"Shipping-Billing-Simalarity\")\n",
        "ax[1].set_ylabel(\"Account Age Days\")\n",
        "\n",
        "\n",
        "\n",
        "plt.show()"
      ],
      "metadata": {
        "colab": {
          "base_uri": "https://localhost:8080/",
          "height": 472
        },
        "id": "rNeWis5tlAzF",
        "outputId": "055e5f47-9c3d-4b1e-8984-b05603ee8ecf"
      },
      "execution_count": 36,
      "outputs": [
        {
          "output_type": "display_data",
          "data": {
            "text/plain": [
              "<Figure size 640x480 with 2 Axes>"
            ],
            "image/png": "[encoded data removed]"
          },
          "metadata": {}
        }
      ]
    },
    {
      "cell_type": "code",
      "source": [
        "colors = ['blue', 'red']\n",
        "data_count=len(froud_data)\n",
        "x1 = list(froud_data['Transaction Amount'])\n",
        "y1 = list(froud_data['Is Fraudulent'])\n",
        "x2 = list(not_froud_data['Transaction Amount'])\n",
        "y2 = list(not_froud_data['Is Fraudulent'])\n",
        "\n",
        "plt.scatter(x1, y1, c=colors[1])\n",
        "plt.scatter(x2, y2, c=colors[0])\n",
        "\n",
        "plt.xlabel(\"Transaction Amount\")\n",
        "plt.ylabel(\"Is Fraudulent\")\n",
        "\n",
        "plt.show()"
      ],
      "metadata": {
        "colab": {
          "base_uri": "https://localhost:8080/",
          "height": 449
        },
        "id": "i42vfUnt11Om",
        "outputId": "720a599c-f6d7-4bad-a794-959752ad75f9"
      },
      "execution_count": 39,
      "outputs": [
        {
          "output_type": "display_data",
          "data": {
            "text/plain": [
              "<Figure size 640x480 with 1 Axes>"
            ],
            "image/png": "[encoded data removed]"
          },
          "metadata": {}
        }
      ]
    },
    {
      "cell_type": "code",
      "source": [
        "def analyze_transactions_by_column(data, column_name):\n",
        "\n",
        "  # Filter fraudulent and non-fraudulent transactions\n",
        "  fraudulent_transactions = data[data[\"Is Fraudulent\"] == True]\n",
        "  non_fraudulent_transactions = data[data[\"Is Fraudulent\"] == False]\n",
        "\n",
        "  # Ensure the column exists and is numeric\n",
        "  if column_name not in data.columns or not pd.api.types.is_numeric_dtype(data[column_name]):\n",
        "    raise ValueError(f\"Invalid column name '{column_name}' or column is not numeric.\")\n",
        "\n",
        "  # Count the value distribution for fraudulent and non-fraudulent customers\n",
        "  fraud_value_counts = fraudulent_transactions[column_name].value_counts()\n",
        "  non_fraud_value_counts = non_fraudulent_transactions[column_name].value_counts()\n",
        "\n",
        "  return fraud_value_counts, non_fraud_value_counts\n",
        "\n",
        "\n",
        "def analyze_and_plot_distribution(data, column_name):\n",
        "\n",
        "  try:\n",
        "    # Analyze value distribution by column\n",
        "    fraud_value_counts, non_fraud_value_counts = analyze_transactions_by_column(data.copy(), column_name)\n",
        "  except ValueError as e:\n",
        "    print(f\"Error: {e}\")\n",
        "    return\n",
        "\n",
        "  # Extract the unique values (assuming they represent categories for the column)\n",
        "  unique_values = fraud_value_counts.index.tolist()\n",
        "\n",
        "  # Plot the distribution for fraudulent and non-fraudulent customers (assuming categorical data)\n",
        "  plt.figure(figsize=(10, 6))\n",
        "  plt.bar(unique_values, fraud_value_counts, label=\"Fraudulent Transactions\", width=0.4, color='red')\n",
        "  plt.bar([x + 0.4 for x in unique_values], non_fraud_value_counts, label=\"Non-Fraudulent Transactions\", width=0.4, color='blue')\n",
        "\n",
        "  # Customize the plot\n",
        "  plt.xlabel(column_name)\n",
        "  plt.ylabel(\"Number of Transactions\")\n",
        "  plt.title(f\"Distribution of {column_name} (Fraudulent vs. Non-Fraudulent)\")\n",
        "  plt.xticks(rotation=45, ha='right')  # Rotate x-axis labels for better readability with many categories\n",
        "  plt.legend()\n",
        "  plt.grid(True)\n",
        "\n",
        "  plt.show()\n",
        "\n",
        "\n",
        "try:\n",
        "  # Prompt user for column selection\n",
        "  column_name = input(\"Enter the name of a numeric column to analyze (e.g., Amount, AgeCustomer): \")\n",
        "  analyze_and_plot_distribution(trainData, 'Customer Age')\n",
        "except:\n",
        "  print(\"An error occurred during analysis or plotting. Please check your data, column name, and code.\")\n"
      ],
      "metadata": {
        "colab": {
          "base_uri": "https://localhost:8080/",
          "height": 589
        },
        "id": "Qnj-46cWe027",
        "outputId": "d495fbe4-456f-4613-e280-33127a556eb4"
      },
      "execution_count": 31,
      "outputs": [
        {
          "name": "stdout",
          "output_type": "stream",
          "text": [
            "Enter the name of a numeric column to analyze (e.g., Amount, AgeCustomer): 1\n"
          ]
        },
        {
          "output_type": "display_data",
          "data": {
            "text/plain": [
              "<Figure size 1000x600 with 1 Axes>"
            ],
            "image/png": "[encoded data removed]"
          },
          "metadata": {}
        }
      ]
    },
    {
      "cell_type": "code",
      "source": [
        "try:\n",
        "  # Prompt user for column selection\n",
        "  column_name = input(\"Enter the name of a numeric column to analyze (e.g., Amount, AgeCustomer): \")\n",
        "  analyze_and_plot_distribution(trainData, 'Account Age Days')\n",
        "except:\n",
        "  print(\"An error occurred during analysis or plotting. Please check your data, column name, and code.\")"
      ],
      "metadata": {
        "colab": {
          "base_uri": "https://localhost:8080/",
          "height": 596
        },
        "id": "EOE3cRBQ07PC",
        "outputId": "9612cfaa-a965-4941-b0af-8b94b864c653"
      },
      "execution_count": 33,
      "outputs": [
        {
          "name": "stdout",
          "output_type": "stream",
          "text": [
            "Enter the name of a numeric column to analyze (e.g., Amount, AgeCustomer): 1\n"
          ]
        },
        {
          "output_type": "display_data",
          "data": {
            "text/plain": [
              "<Figure size 1000x600 with 1 Axes>"
            ],
            "image/png": "[encoded data removed]"
          },
          "metadata": {}
        }
      ]
    },
    {
      "cell_type": "code",
      "source": [
        "try:\n",
        "  # Prompt user for column selection\n",
        "  column_name = input(\"Enter the name of a numeric column to analyze (e.g., Amount, AgeCustomer): \")\n",
        "  analyze_and_plot_distribution(trainData, 'Transaction Hour')\n",
        "except:\n",
        "  print(\"An error occurred during analysis or plotting. Please check your data, column name, and code.\")"
      ],
      "metadata": {
        "colab": {
          "base_uri": "https://localhost:8080/",
          "height": 589
        },
        "id": "1Nz_8vr_1NHg",
        "outputId": "2b8f9fed-084c-4983-ad2d-3f1756bd04d5"
      },
      "execution_count": 34,
      "outputs": [
        {
          "name": "stdout",
          "output_type": "stream",
          "text": [
            "Enter the name of a numeric column to analyze (e.g., Amount, AgeCustomer): 1\n"
          ]
        },
        {
          "output_type": "display_data",
          "data": {
            "text/plain": [
              "<Figure size 1000x600 with 1 Axes>"
            ],
            "image/png": "[encoded data removed]"
          },
          "metadata": {}
        }
      ]
    },
    {
      "cell_type": "code",
      "source": [
        "try:\n",
        "  # Prompt user for column selection\n",
        "  column_name = input(\"Enter the name of a numeric column to analyze (e.g., Amount, AgeCustomer): \")\n",
        "  analyze_and_plot_distribution(trainData, 'Transaction Month')\n",
        "except:\n",
        "  print(\"An error occurred during analysis or plotting. Please check your data, column name, and code.\")"
      ],
      "metadata": {
        "colab": {
          "base_uri": "https://localhost:8080/",
          "height": 593
        },
        "id": "pTjdmqPj1WOM",
        "outputId": "b59945a3-9bf8-41ed-9d55-da9d696b518c"
      },
      "execution_count": 35,
      "outputs": [
        {
          "name": "stdout",
          "output_type": "stream",
          "text": [
            "Enter the name of a numeric column to analyze (e.g., Amount, AgeCustomer): 1\n"
          ]
        },
        {
          "output_type": "display_data",
          "data": {
            "text/plain": [
              "<Figure size 1000x600 with 1 Axes>"
            ],
            "image/png": "[encoded data removed]"
          },
          "metadata": {}
        }
      ]
    },
    {
      "cell_type": "code",
      "source": [
        "trainData.head()"
      ],
      "metadata": {
        "colab": {
          "base_uri": "https://localhost:8080/",
          "height": 241
        },
        "id": "Oykr_q_Skro0",
        "outputId": "1d5088d4-03cf-4c51-f22e-07592e5534af"
      },
      "execution_count": 35,
      "outputs": [
        {
          "output_type": "execute_result",
          "data": {
            "text/plain": [
              "     Transaction Amount  Payment Method  Product Category  Quantity  \\\n",
              "32                31.08               0                 0         2   \n",
              "68               839.30               1                 2         2   \n",
              "85               379.00               3                 3         4   \n",
              "92                46.26               2                 0         2   \n",
              "191             2038.00               2                 2         1   \n",
              "\n",
              "     Customer Age  Customer Location  Device Used  Is Fraudulent  \\\n",
              "32             32              17285            2              1   \n",
              "68             36              39151            1              1   \n",
              "85             37               3783            0              1   \n",
              "92             30              30169            2              1   \n",
              "191            32              43295            1              1   \n",
              "\n",
              "     Account Age Days  Transaction Hour  Transaction Month  \\\n",
              "32                147                13                  1   \n",
              "68                 65                 1                  3   \n",
              "85                 30                20                  1   \n",
              "92                 12                10                  1   \n",
              "191                 9                17                  1   \n",
              "\n",
              "     Shipping-Billing-Simalarity  \n",
              "32                      0.000000  \n",
              "68                      0.000000  \n",
              "85                      0.000000  \n",
              "92                      0.000000  \n",
              "191                     0.785714  "
            ],
            "text/html": [
              "\n",
              "  <div id=\"df-fbf26b91-b237-401b-ba44-d9c9cf7a677e\" class=\"colab-df-container\">\n",
              "    <div>\n",
              "<style scoped>\n",
              "    .dataframe tbody tr th:only-of-type {\n",
              "        vertical-align: middle;\n",
              "    }\n",
              "\n",
              "    .dataframe tbody tr th {\n",
              "        vertical-align: top;\n",
              "    }\n",
              "\n",
              "    .dataframe thead th {\n",
              "        text-align: right;\n",
              "    }\n",
              "</style>\n",
              "<table border=\"1\" class=\"dataframe\">\n",
              "  <thead>\n",
              "    <tr style=\"text-align: right;\">\n",
              "      <th></th>\n",
              "      <th>Transaction Amount</th>\n",
              "      <th>Payment Method</th>\n",
              "      <th>Product Category</th>\n",
              "      <th>Quantity</th>\n",
              "      <th>Customer Age</th>\n",
              "      <th>Customer Location</th>\n",
              "      <th>Device Used</th>\n",
              "      <th>Is Fraudulent</th>\n",
              "      <th>Account Age Days</th>\n",
              "      <th>Transaction Hour</th>\n",
              "      <th>Transaction Month</th>\n",
              "      <th>Shipping-Billing-Simalarity</th>\n",
              "    </tr>\n",
              "  </thead>\n",
              "  <tbody>\n",
              "    <tr>\n",
              "      <th>32</th>\n",
              "      <td>31.08</td>\n",
              "      <td>0</td>\n",
              "      <td>0</td>\n",
              "      <td>2</td>\n",
              "      <td>32</td>\n",
              "      <td>17285</td>\n",
              "      <td>2</td>\n",
              "      <td>1</td>\n",
              "      <td>147</td>\n",
              "      <td>13</td>\n",
              "      <td>1</td>\n",
              "      <td>0.000000</td>\n",
              "    </tr>\n",
              "    <tr>\n",
              "      <th>68</th>\n",
              "      <td>839.30</td>\n",
              "      <td>1</td>\n",
              "      <td>2</td>\n",
              "      <td>2</td>\n",
              "      <td>36</td>\n",
              "      <td>39151</td>\n",
              "      <td>1</td>\n",
              "      <td>1</td>\n",
              "      <td>65</td>\n",
              "      <td>1</td>\n",
              "      <td>3</td>\n",
              "      <td>0.000000</td>\n",
              "    </tr>\n",
              "    <tr>\n",
              "      <th>85</th>\n",
              "      <td>379.00</td>\n",
              "      <td>3</td>\n",
              "      <td>3</td>\n",
              "      <td>4</td>\n",
              "      <td>37</td>\n",
              "      <td>3783</td>\n",
              "      <td>0</td>\n",
              "      <td>1</td>\n",
              "      <td>30</td>\n",
              "      <td>20</td>\n",
              "      <td>1</td>\n",
              "      <td>0.000000</td>\n",
              "    </tr>\n",
              "    <tr>\n",
              "      <th>92</th>\n",
              "      <td>46.26</td>\n",
              "      <td>2</td>\n",
              "      <td>0</td>\n",
              "      <td>2</td>\n",
              "      <td>30</td>\n",
              "      <td>30169</td>\n",
              "      <td>2</td>\n",
              "      <td>1</td>\n",
              "      <td>12</td>\n",
              "      <td>10</td>\n",
              "      <td>1</td>\n",
              "      <td>0.000000</td>\n",
              "    </tr>\n",
              "    <tr>\n",
              "      <th>191</th>\n",
              "      <td>2038.00</td>\n",
              "      <td>2</td>\n",
              "      <td>2</td>\n",
              "      <td>1</td>\n",
              "      <td>32</td>\n",
              "      <td>43295</td>\n",
              "      <td>1</td>\n",
              "      <td>1</td>\n",
              "      <td>9</td>\n",
              "      <td>17</td>\n",
              "      <td>1</td>\n",
              "      <td>0.785714</td>\n",
              "    </tr>\n",
              "  </tbody>\n",
              "</table>\n",
              "</div>\n",
              "    <div class=\"colab-df-buttons\">\n",
              "\n",
              "  <div class=\"colab-df-container\">\n",
              "    <button class=\"colab-df-convert\" onclick=\"convertToInteractive('df-fbf26b91-b237-401b-ba44-d9c9cf7a677e')\"\n",
              "            title=\"Convert this dataframe to an interactive table.\"\n",
              "            style=\"display:none;\">\n",
              "\n",
              "  <svg xmlns=\"http://www.w3.org/2000/svg\" height=\"24px\" viewBox=\"0 -960 960 960\">\n",
              "    <path d=\"M120-120v-720h720v720H120Zm60-500h600v-160H180v160Zm220 220h160v-160H400v160Zm0 220h160v-160H400v160ZM180-400h160v-160H180v160Zm440 0h160v-160H620v160ZM180-180h160v-160H180v160Zm440 0h160v-160H620v160Z\"/>\n",
              "  </svg>\n",
              "    </button>\n",
              "\n",
              "  <style>\n",
              "    .colab-df-container {\n",
              "      display:flex;\n",
              "      gap: 12px;\n",
              "    }\n",
              "\n",
              "    .colab-df-convert {\n",
              "      background-color: #E8F0FE;\n",
              "      border: none;\n",
              "      border-radius: 50%;\n",
              "      cursor: pointer;\n",
              "      display: none;\n",
              "      fill: #1967D2;\n",
              "      height: 32px;\n",
              "      padding: 0 0 0 0;\n",
              "      width: 32px;\n",
              "    }\n",
              "\n",
              "    .colab-df-convert:hover {\n",
              "      background-color: #E2EBFA;\n",
              "      box-shadow: 0px 1px 2px rgba(60, 64, 67, 0.3), 0px 1px 3px 1px rgba(60, 64, 67, 0.15);\n",
              "      fill: #174EA6;\n",
              "    }\n",
              "\n",
              "    .colab-df-buttons div {\n",
              "      margin-bottom: 4px;\n",
              "    }\n",
              "\n",
              "    [theme=dark] .colab-df-convert {\n",
              "      background-color: #3B4455;\n",
              "      fill: #D2E3FC;\n",
              "    }\n",
              "\n",
              "    [theme=dark] .colab-df-convert:hover {\n",
              "      background-color: #434B5C;\n",
              "      box-shadow: 0px 1px 3px 1px rgba(0, 0, 0, 0.15);\n",
              "      filter: drop-shadow(0px 1px 2px rgba(0, 0, 0, 0.3));\n",
              "      fill: #FFFFFF;\n",
              "    }\n",
              "  </style>\n",
              "\n",
              "    <script>\n",
              "      const buttonEl =\n",
              "        document.querySelector('#df-fbf26b91-b237-401b-ba44-d9c9cf7a677e button.colab-df-convert');\n",
              "      buttonEl.style.display =\n",
              "        google.colab.kernel.accessAllowed ? 'block' : 'none';\n",
              "\n",
              "      async function convertToInteractive(key) {\n",
              "        const element = document.querySelector('#df-fbf26b91-b237-401b-ba44-d9c9cf7a677e');\n",
              "        const dataTable =\n",
              "          await google.colab.kernel.invokeFunction('convertToInteractive',\n",
              "                                                    [key], {});\n",
              "        if (!dataTable) return;\n",
              "\n",
              "        const docLinkHtml = 'Like what you see? Visit the ' +\n",
              "          '<a target=\"_blank\" href=https://colab.research.google.com/notebooks/data_table.ipynb>data table notebook</a>'\n",
              "          + ' to learn more about interactive tables.';\n",
              "        element.innerHTML = '';\n",
              "        dataTable['output_type'] = 'display_data';\n",
              "        await google.colab.output.renderOutput(dataTable, element);\n",
              "        const docLink = document.createElement('div');\n",
              "        docLink.innerHTML = docLinkHtml;\n",
              "        element.appendChild(docLink);\n",
              "      }\n",
              "    </script>\n",
              "  </div>\n",
              "\n",
              "\n",
              "<div id=\"df-22dde10c-d602-470c-ac71-23fd8d0ec923\">\n",
              "  <button class=\"colab-df-quickchart\" onclick=\"quickchart('df-22dde10c-d602-470c-ac71-23fd8d0ec923')\"\n",
              "            title=\"Suggest charts\"\n",
              "            style=\"display:none;\">\n",
              "\n",
              "<svg xmlns=\"http://www.w3.org/2000/svg\" height=\"24px\"viewBox=\"0 0 24 24\"\n",
              "     width=\"24px\">\n",
              "    <g>\n",
              "        <path d=\"M19 3H5c-1.1 0-2 .9-2 2v14c0 1.1.9 2 2 2h14c1.1 0 2-.9 2-2V5c0-1.1-.9-2-2-2zM9 17H7v-7h2v7zm4 0h-2V7h2v10zm4 0h-2v-4h2v4z\"/>\n",
              "    </g>\n",
              "</svg>\n",
              "  </button>\n",
              "\n",
              "<style>\n",
              "  .colab-df-quickchart {\n",
              "      --bg-color: #E8F0FE;\n",
              "      --fill-color: #1967D2;\n",
              "      --hover-bg-color: #E2EBFA;\n",
              "      --hover-fill-color: #174EA6;\n",
              "      --disabled-fill-color: #AAA;\n",
              "      --disabled-bg-color: #DDD;\n",
              "  }\n",
              "\n",
              "  [theme=dark] .colab-df-quickchart {\n",
              "      --bg-color: #3B4455;\n",
              "      --fill-color: #D2E3FC;\n",
              "      --hover-bg-color: #434B5C;\n",
              "      --hover-fill-color: #FFFFFF;\n",
              "      --disabled-bg-color: #3B4455;\n",
              "      --disabled-fill-color: #666;\n",
              "  }\n",
              "\n",
              "  .colab-df-quickchart {\n",
              "    background-color: var(--bg-color);\n",
              "    border: none;\n",
              "    border-radius: 50%;\n",
              "    cursor: pointer;\n",
              "    display: none;\n",
              "    fill: var(--fill-color);\n",
              "    height: 32px;\n",
              "    padding: 0;\n",
              "    width: 32px;\n",
              "  }\n",
              "\n",
              "  .colab-df-quickchart:hover {\n",
              "    background-color: var(--hover-bg-color);\n",
              "    box-shadow: 0 1px 2px rgba(60, 64, 67, 0.3), 0 1px 3px 1px rgba(60, 64, 67, 0.15);\n",
              "    fill: var(--button-hover-fill-color);\n",
              "  }\n",
              "\n",
              "  .colab-df-quickchart-complete:disabled,\n",
              "  .colab-df-quickchart-complete:disabled:hover {\n",
              "    background-color: var(--disabled-bg-color);\n",
              "    fill: var(--disabled-fill-color);\n",
              "    box-shadow: none;\n",
              "  }\n",
              "\n",
              "  .colab-df-spinner {\n",
              "    border: 2px solid var(--fill-color);\n",
              "    border-color: transparent;\n",
              "    border-bottom-color: var(--fill-color);\n",
              "    animation:\n",
              "      spin 1s steps(1) infinite;\n",
              "  }\n",
              "\n",
              "  @keyframes spin {\n",
              "    0% {\n",
              "      border-color: transparent;\n",
              "      border-bottom-color: var(--fill-color);\n",
              "      border-left-color: var(--fill-color);\n",
              "    }\n",
              "    20% {\n",
              "      border-color: transparent;\n",
              "      border-left-color: var(--fill-color);\n",
              "      border-top-color: var(--fill-color);\n",
              "    }\n",
              "    30% {\n",
              "      border-color: transparent;\n",
              "      border-left-color: var(--fill-color);\n",
              "      border-top-color: var(--fill-color);\n",
              "      border-right-color: var(--fill-color);\n",
              "    }\n",
              "    40% {\n",
              "      border-color: transparent;\n",
              "      border-right-color: var(--fill-color);\n",
              "      border-top-color: var(--fill-color);\n",
              "    }\n",
              "    60% {\n",
              "      border-color: transparent;\n",
              "      border-right-color: var(--fill-color);\n",
              "    }\n",
              "    80% {\n",
              "      border-color: transparent;\n",
              "      border-right-color: var(--fill-color);\n",
              "      border-bottom-color: var(--fill-color);\n",
              "    }\n",
              "    90% {\n",
              "      border-color: transparent;\n",
              "      border-bottom-color: var(--fill-color);\n",
              "    }\n",
              "  }\n",
              "</style>\n",
              "\n",
              "  <script>\n",
              "    async function quickchart(key) {\n",
              "      const quickchartButtonEl =\n",
              "        document.querySelector('#' + key + ' button');\n",
              "      quickchartButtonEl.disabled = true;  // To prevent multiple clicks.\n",
              "      quickchartButtonEl.classList.add('colab-df-spinner');\n",
              "      try {\n",
              "        const charts = await google.colab.kernel.invokeFunction(\n",
              "            'suggestCharts', [key], {});\n",
              "      } catch (error) {\n",
              "        console.error('Error during call to suggestCharts:', error);\n",
              "      }\n",
              "      quickchartButtonEl.classList.remove('colab-df-spinner');\n",
              "      quickchartButtonEl.classList.add('colab-df-quickchart-complete');\n",
              "    }\n",
              "    (() => {\n",
              "      let quickchartButtonEl =\n",
              "        document.querySelector('#df-22dde10c-d602-470c-ac71-23fd8d0ec923 button');\n",
              "      quickchartButtonEl.style.display =\n",
              "        google.colab.kernel.accessAllowed ? 'block' : 'none';\n",
              "    })();\n",
              "  </script>\n",
              "</div>\n",
              "\n",
              "    </div>\n",
              "  </div>\n"
            ],
            "application/vnd.google.colaboratory.intrinsic+json": {
              "type": "dataframe",
              "variable_name": "trainData"
            }
          },
          "metadata": {},
          "execution_count": 35
        }
      ]
    },
    {
      "cell_type": "markdown",
      "source": [
        "Logistick Regretion"
      ],
      "metadata": {
        "id": "nJd3lwOCqN3T"
      }
    },
    {
      "cell_type": "code",
      "source": [
        "LogisticModel = LogisticRegression()"
      ],
      "metadata": {
        "id": "nCjaOSdtqHk4"
      },
      "execution_count": null,
      "outputs": []
    },
    {
      "cell_type": "code",
      "source": [
        "LogisticModel.fit(train_x,train_y)"
      ],
      "metadata": {
        "colab": {
          "base_uri": "https://localhost:8080/",
          "height": 74
        },
        "id": "wGS1bypXqXge",
        "outputId": "274cb998-16b1-4bcc-b340-3d302f0587bc",
        "collapsed": true
      },
      "execution_count": null,
      "outputs": [
        {
          "output_type": "execute_result",
          "data": {
            "text/plain": [
              "LogisticRegression()"
            ],
            "text/html": [
              "<style>#sk-container-id-1 {color: black;background-color: white;}#sk-container-id-1 pre{padding: 0;}#sk-container-id-1 div.sk-toggleable {background-color: white;}#sk-container-id-1 label.sk-toggleable__label {cursor: pointer;display: block;width: 100%;margin-bottom: 0;padding: 0.3em;box-sizing: border-box;text-align: center;}#sk-container-id-1 label.sk-toggleable__label-arrow:before {content: \"▸\";float: left;margin-right: 0.25em;color: #696969;}#sk-container-id-1 label.sk-toggleable__label-arrow:hover:before {color: black;}#sk-container-id-1 div.sk-estimator:hover label.sk-toggleable__label-arrow:before {color: black;}#sk-container-id-1 div.sk-toggleable__content {max-height: 0;max-width: 0;overflow: hidden;text-align: left;background-color: #f0f8ff;}#sk-container-id-1 div.sk-toggleable__content pre {margin: 0.2em;color: black;border-radius: 0.25em;background-color: #f0f8ff;}#sk-container-id-1 input.sk-toggleable__control:checked~div.sk-toggleable__content {max-height: 200px;max-width: 100%;overflow: auto;}#sk-container-id-1 input.sk-toggleable__control:checked~label.sk-toggleable__label-arrow:before {content: \"▾\";}#sk-container-id-1 div.sk-estimator input.sk-toggleable__control:checked~label.sk-toggleable__label {background-color: #d4ebff;}#sk-container-id-1 div.sk-label input.sk-toggleable__control:checked~label.sk-toggleable__label {background-color: #d4ebff;}#sk-container-id-1 input.sk-hidden--visually {border: 0;clip: rect(1px 1px 1px 1px);clip: rect(1px, 1px, 1px, 1px);height: 1px;margin: -1px;overflow: hidden;padding: 0;position: absolute;width: 1px;}#sk-container-id-1 div.sk-estimator {font-family: monospace;background-color: #f0f8ff;border: 1px dotted black;border-radius: 0.25em;box-sizing: border-box;margin-bottom: 0.5em;}#sk-container-id-1 div.sk-estimator:hover {background-color: #d4ebff;}#sk-container-id-1 div.sk-parallel-item::after {content: \"\";width: 100%;border-bottom: 1px solid gray;flex-grow: 1;}#sk-container-id-1 div.sk-label:hover label.sk-toggleable__label {background-color: #d4ebff;}#sk-container-id-1 div.sk-serial::before {content: \"\";position: absolute;border-left: 1px solid gray;box-sizing: border-box;top: 0;bottom: 0;left: 50%;z-index: 0;}#sk-container-id-1 div.sk-serial {display: flex;flex-direction: column;align-items: center;background-color: white;padding-right: 0.2em;padding-left: 0.2em;position: relative;}#sk-container-id-1 div.sk-item {position: relative;z-index: 1;}#sk-container-id-1 div.sk-parallel {display: flex;align-items: stretch;justify-content: center;background-color: white;position: relative;}#sk-container-id-1 div.sk-item::before, #sk-container-id-1 div.sk-parallel-item::before {content: \"\";position: absolute;border-left: 1px solid gray;box-sizing: border-box;top: 0;bottom: 0;left: 50%;z-index: -1;}#sk-container-id-1 div.sk-parallel-item {display: flex;flex-direction: column;z-index: 1;position: relative;background-color: white;}#sk-container-id-1 div.sk-parallel-item:first-child::after {align-self: flex-end;width: 50%;}#sk-container-id-1 div.sk-parallel-item:last-child::after {align-self: flex-start;width: 50%;}#sk-container-id-1 div.sk-parallel-item:only-child::after {width: 0;}#sk-container-id-1 div.sk-dashed-wrapped {border: 1px dashed gray;margin: 0 0.4em 0.5em 0.4em;box-sizing: border-box;padding-bottom: 0.4em;background-color: white;}#sk-container-id-1 div.sk-label label {font-family: monospace;font-weight: bold;display: inline-block;line-height: 1.2em;}#sk-container-id-1 div.sk-label-container {text-align: center;}#sk-container-id-1 div.sk-container {/* jupyter's `normalize.less` sets `[hidden] { display: none; }` but bootstrap.min.css set `[hidden] { display: none !important; }` so we also need the `!important` here to be able to override the default hidden behavior on the sphinx rendered scikit-learn.org. See: https://github.com/scikit-learn/scikit-learn/issues/21755 */display: inline-block !important;position: relative;}#sk-container-id-1 div.sk-text-repr-fallback {display: none;}</style><div id=\"sk-container-id-1\" class=\"sk-top-container\"><div class=\"sk-text-repr-fallback\"><pre>LogisticRegression()</pre><b>In a Jupyter environment, please rerun this cell to show the HTML representation or trust the notebook. <br />On GitHub, the HTML representation is unable to render, please try loading this page with nbviewer.org.</b></div><div class=\"sk-container\" hidden><div class=\"sk-item\"><div class=\"sk-estimator sk-toggleable\"><input class=\"sk-toggleable__control sk-hidden--visually\" id=\"sk-estimator-id-1\" type=\"checkbox\" checked><label for=\"sk-estimator-id-1\" class=\"sk-toggleable__label sk-toggleable__label-arrow\">LogisticRegression</label><div class=\"sk-toggleable__content\"><pre>LogisticRegression()</pre></div></div></div></div></div>"
            ]
          },
          "metadata": {},
          "execution_count": 51
        }
      ]
    },
    {
      "cell_type": "code",
      "source": [
        "train_prediction = LogisticModel.predict(train_x)\n",
        "test_prediction = LogisticModel.predict(test_x)\n",
        "train_accuracy = accuracy_score(train_prediction,train_y)\n",
        "test_accuracy = accuracy_score(test_prediction, test_y)\n",
        "\n",
        "print('train accuracy = ', train_accuracy)\n",
        "print('test accuracy = ', test_accuracy)\n",
        "print('froud accuracy = ', accuracy_score(LogisticModel.predict( froud_data.drop('Is Fraudulent',axis=1) ), froud_data['Is Fraudulent']))\n",
        "print('not_froud accuracy = ', accuracy_score(LogisticModel.predict( not_froud_data.drop('Is Fraudulent',axis=1) ), not_froud_data['Is Fraudulent']))"
      ],
      "metadata": {
        "colab": {
          "base_uri": "https://localhost:8080/"
        },
        "id": "__ZU7sCoqYjp",
        "outputId": "c9974c5a-b2bf-4c34-b157-ca0825a42122"
      },
      "execution_count": null,
      "outputs": [
        {
          "output_type": "stream",
          "name": "stdout",
          "text": [
            "train accuracy =  0.6963555350903329\n",
            "test accuracy =  0.718964204112719\n",
            "froud accuracy =  0.6657953899076356\n",
            "not_froud accuracy =  0.7269156802730301\n"
          ]
        }
      ]
    },
    {
      "cell_type": "code",
      "source": [
        "pred_y = LogisticModel.predict(test_x)\n",
        "cm = confusion_matrix(test_y, pred_y)"
      ],
      "metadata": {
        "id": "Z3bDqn_wOZhh"
      },
      "execution_count": null,
      "outputs": []
    },
    {
      "cell_type": "code",
      "source": [
        "print(cm)  # Print the confusion matrix\n",
        "print(\"Accuracy:\", (cm[0, 0] + cm[1, 1]) / sum(cm.flatten()))\n",
        "print(\"Precision:\", cm[0, 0] / (cm[0, 0] + cm[0, 1]))\n",
        "print(\"Recall:\", cm[0, 0] / (cm[0, 0] + cm[1, 0]))\n",
        "print(\"F1-Score:\", 2 * ((cm[0, 0] / (cm[0, 0] + cm[0, 1])) * (cm[0, 0] / (cm[0, 0] + cm[1, 0])) / ((cm[0, 0] / (cm[0, 0] + cm[0, 1])) + (cm[0, 0] / (cm[0, 0] + cm[1, 0])))))"
      ],
      "metadata": {
        "colab": {
          "base_uri": "https://localhost:8080/"
        },
        "id": "fUuchqRzONH2",
        "outputId": "971088ec-50e5-419c-c07e-4b50b4bb2d15"
      },
      "execution_count": null,
      "outputs": [
        {
          "output_type": "stream",
          "name": "stdout",
          "text": [
            "[[16148  6264]\n",
            " [  378   844]]\n",
            "Accuracy: 0.718964204112719\n",
            "Precision: 0.7205068713189363\n",
            "Recall: 0.9771269514704103\n",
            "F1-Score: 0.829421131028815\n"
          ]
        }
      ]
    },
    {
      "cell_type": "markdown",
      "source": [
        "DecisionTree"
      ],
      "metadata": {
        "id": "Pag02Zksrd0W"
      }
    },
    {
      "cell_type": "code",
      "source": [
        "DecisionTreeModel = DecisionTreeClassifier(criterion='gini',max_depth=50, min_samples_leaf=50,random_state=25)"
      ],
      "metadata": {
        "id": "9qM7eZblqgNf"
      },
      "execution_count": null,
      "outputs": []
    },
    {
      "cell_type": "code",
      "source": [
        "DecisionTreeModel.fit(train_x,train_y)"
      ],
      "metadata": {
        "colab": {
          "base_uri": "https://localhost:8080/",
          "height": 74
        },
        "id": "IZeiogXsrnSM",
        "outputId": "3e6caa7b-12be-4408-f274-e90cd05a5ecc"
      },
      "execution_count": null,
      "outputs": [
        {
          "output_type": "execute_result",
          "data": {
            "text/plain": [
              "DecisionTreeClassifier(max_depth=50, min_samples_leaf=50, random_state=25)"
            ],
            "text/html": [
              "<style>#sk-container-id-2 {color: black;background-color: white;}#sk-container-id-2 pre{padding: 0;}#sk-container-id-2 div.sk-toggleable {background-color: white;}#sk-container-id-2 label.sk-toggleable__label {cursor: pointer;display: block;width: 100%;margin-bottom: 0;padding: 0.3em;box-sizing: border-box;text-align: center;}#sk-container-id-2 label.sk-toggleable__label-arrow:before {content: \"▸\";float: left;margin-right: 0.25em;color: #696969;}#sk-container-id-2 label.sk-toggleable__label-arrow:hover:before {color: black;}#sk-container-id-2 div.sk-estimator:hover label.sk-toggleable__label-arrow:before {color: black;}#sk-container-id-2 div.sk-toggleable__content {max-height: 0;max-width: 0;overflow: hidden;text-align: left;background-color: #f0f8ff;}#sk-container-id-2 div.sk-toggleable__content pre {margin: 0.2em;color: black;border-radius: 0.25em;background-color: #f0f8ff;}#sk-container-id-2 input.sk-toggleable__control:checked~div.sk-toggleable__content {max-height: 200px;max-width: 100%;overflow: auto;}#sk-container-id-2 input.sk-toggleable__control:checked~label.sk-toggleable__label-arrow:before {content: \"▾\";}#sk-container-id-2 div.sk-estimator input.sk-toggleable__control:checked~label.sk-toggleable__label {background-color: #d4ebff;}#sk-container-id-2 div.sk-label input.sk-toggleable__control:checked~label.sk-toggleable__label {background-color: #d4ebff;}#sk-container-id-2 input.sk-hidden--visually {border: 0;clip: rect(1px 1px 1px 1px);clip: rect(1px, 1px, 1px, 1px);height: 1px;margin: -1px;overflow: hidden;padding: 0;position: absolute;width: 1px;}#sk-container-id-2 div.sk-estimator {font-family: monospace;background-color: #f0f8ff;border: 1px dotted black;border-radius: 0.25em;box-sizing: border-box;margin-bottom: 0.5em;}#sk-container-id-2 div.sk-estimator:hover {background-color: #d4ebff;}#sk-container-id-2 div.sk-parallel-item::after {content: \"\";width: 100%;border-bottom: 1px solid gray;flex-grow: 1;}#sk-container-id-2 div.sk-label:hover label.sk-toggleable__label {background-color: #d4ebff;}#sk-container-id-2 div.sk-serial::before {content: \"\";position: absolute;border-left: 1px solid gray;box-sizing: border-box;top: 0;bottom: 0;left: 50%;z-index: 0;}#sk-container-id-2 div.sk-serial {display: flex;flex-direction: column;align-items: center;background-color: white;padding-right: 0.2em;padding-left: 0.2em;position: relative;}#sk-container-id-2 div.sk-item {position: relative;z-index: 1;}#sk-container-id-2 div.sk-parallel {display: flex;align-items: stretch;justify-content: center;background-color: white;position: relative;}#sk-container-id-2 div.sk-item::before, #sk-container-id-2 div.sk-parallel-item::before {content: \"\";position: absolute;border-left: 1px solid gray;box-sizing: border-box;top: 0;bottom: 0;left: 50%;z-index: -1;}#sk-container-id-2 div.sk-parallel-item {display: flex;flex-direction: column;z-index: 1;position: relative;background-color: white;}#sk-container-id-2 div.sk-parallel-item:first-child::after {align-self: flex-end;width: 50%;}#sk-container-id-2 div.sk-parallel-item:last-child::after {align-self: flex-start;width: 50%;}#sk-container-id-2 div.sk-parallel-item:only-child::after {width: 0;}#sk-container-id-2 div.sk-dashed-wrapped {border: 1px dashed gray;margin: 0 0.4em 0.5em 0.4em;box-sizing: border-box;padding-bottom: 0.4em;background-color: white;}#sk-container-id-2 div.sk-label label {font-family: monospace;font-weight: bold;display: inline-block;line-height: 1.2em;}#sk-container-id-2 div.sk-label-container {text-align: center;}#sk-container-id-2 div.sk-container {/* jupyter's `normalize.less` sets `[hidden] { display: none; }` but bootstrap.min.css set `[hidden] { display: none !important; }` so we also need the `!important` here to be able to override the default hidden behavior on the sphinx rendered scikit-learn.org. See: https://github.com/scikit-learn/scikit-learn/issues/21755 */display: inline-block !important;position: relative;}#sk-container-id-2 div.sk-text-repr-fallback {display: none;}</style><div id=\"sk-container-id-2\" class=\"sk-top-container\"><div class=\"sk-text-repr-fallback\"><pre>DecisionTreeClassifier(max_depth=50, min_samples_leaf=50, random_state=25)</pre><b>In a Jupyter environment, please rerun this cell to show the HTML representation or trust the notebook. <br />On GitHub, the HTML representation is unable to render, please try loading this page with nbviewer.org.</b></div><div class=\"sk-container\" hidden><div class=\"sk-item\"><div class=\"sk-estimator sk-toggleable\"><input class=\"sk-toggleable__control sk-hidden--visually\" id=\"sk-estimator-id-2\" type=\"checkbox\" checked><label for=\"sk-estimator-id-2\" class=\"sk-toggleable__label sk-toggleable__label-arrow\">DecisionTreeClassifier</label><div class=\"sk-toggleable__content\"><pre>DecisionTreeClassifier(max_depth=50, min_samples_leaf=50, random_state=25)</pre></div></div></div></div></div>"
            ]
          },
          "metadata": {},
          "execution_count": 56
        }
      ]
    },
    {
      "cell_type": "code",
      "source": [
        "pred_y = DecisionTreeModel.predict(test_x)\n",
        "cm = confusion_matrix(test_y, pred_y)\n",
        "print(cm)  # Print the confusion matrix\n",
        "print(\"Accuracy:\", (cm[0, 0] + cm[1, 1]) / sum(cm.flatten()))\n",
        "print(\"Precision:\", cm[0, 0] / (cm[0, 0] + cm[0, 1]))\n",
        "print(\"Recall:\", cm[0, 0] / (cm[0, 0] + cm[1, 0]))\n",
        "print(\"F1-Score:\", 2 * ((cm[0, 0] / (cm[0, 0] + cm[0, 1])) * (cm[0, 0] / (cm[0, 0] + cm[1, 0])) / ((cm[0, 0] / (cm[0, 0] + cm[0, 1])) + (cm[0, 0] / (cm[0, 0] + cm[1, 0])))))"
      ],
      "metadata": {
        "colab": {
          "base_uri": "https://localhost:8080/"
        },
        "id": "QroLlnytQO3O",
        "outputId": "f80c3107-5fd7-4bfa-d3a8-0b9fff45efd2"
      },
      "execution_count": null,
      "outputs": [
        {
          "output_type": "stream",
          "name": "stdout",
          "text": [
            "[[17465  4947]\n",
            " [  358   864]]\n",
            "Accuracy: 0.7755352458322755\n",
            "Precision: 0.7792700339104052\n",
            "Recall: 0.9799135947932447\n",
            "F1-Score: 0.8681496209767616\n"
          ]
        }
      ]
    },
    {
      "cell_type": "code",
      "source": [
        "train_prediction = DecisionTreeModel.predict(train_x)\n",
        "test_prediction = DecisionTreeModel.predict(test_x)\n",
        "train_accuracy = accuracy_score(train_prediction,train_y)\n",
        "test_accuracy = accuracy_score(test_prediction, test_y)\n",
        "\n",
        "print('train accuracy = ', train_accuracy)\n",
        "print('test accuracy = ', test_accuracy)\n",
        "print('froud accuracy = ', accuracy_score(DecisionTreeModel.predict( froud_data.drop('Is Fraudulent',axis=1) ), froud_data['Is Fraudulent']))\n",
        "print('not_froud accuracy = ', accuracy_score(DecisionTreeModel.predict( not_froud_data.drop('Is Fraudulent',axis=1) ), not_froud_data['Is Fraudulent']))"
      ],
      "metadata": {
        "colab": {
          "base_uri": "https://localhost:8080/"
        },
        "id": "IDxeXbWFrrpE",
        "outputId": "bb8e4c5c-b03e-4cb4-e90c-d79656cbfac6"
      },
      "execution_count": null,
      "outputs": [
        {
          "output_type": "stream",
          "name": "stdout",
          "text": [
            "train accuracy =  0.7621482163655571\n",
            "test accuracy =  0.7755352458322755\n",
            "froud accuracy =  0.7164874454887727\n",
            "not_froud accuracy =  0.8078089872423413\n"
          ]
        }
      ]
    },
    {
      "cell_type": "markdown",
      "source": [
        "Random Forest Classifier"
      ],
      "metadata": {
        "id": "erB1mDrDsGVa"
      }
    },
    {
      "cell_type": "code",
      "source": [
        "RandomForestModel = RandomForestClassifier(max_depth=15, random_state=100)"
      ],
      "metadata": {
        "id": "OOd4dAFLr4hH"
      },
      "execution_count": null,
      "outputs": []
    },
    {
      "cell_type": "code",
      "source": [
        "RandomForestModel.fit(train_x,train_y)"
      ],
      "metadata": {
        "colab": {
          "base_uri": "https://localhost:8080/",
          "height": 74
        },
        "id": "LhyRb-ITsJMh",
        "outputId": "ae7065d2-f6e0-47ae-fe88-808512ac6956"
      },
      "execution_count": null,
      "outputs": [
        {
          "output_type": "execute_result",
          "data": {
            "text/plain": [
              "RandomForestClassifier(max_depth=15, random_state=100)"
            ],
            "text/html": [
              "<style>#sk-container-id-2 {color: black;background-color: white;}#sk-container-id-2 pre{padding: 0;}#sk-container-id-2 div.sk-toggleable {background-color: white;}#sk-container-id-2 label.sk-toggleable__label {cursor: pointer;display: block;width: 100%;margin-bottom: 0;padding: 0.3em;box-sizing: border-box;text-align: center;}#sk-container-id-2 label.sk-toggleable__label-arrow:before {content: \"▸\";float: left;margin-right: 0.25em;color: #696969;}#sk-container-id-2 label.sk-toggleable__label-arrow:hover:before {color: black;}#sk-container-id-2 div.sk-estimator:hover label.sk-toggleable__label-arrow:before {color: black;}#sk-container-id-2 div.sk-toggleable__content {max-height: 0;max-width: 0;overflow: hidden;text-align: left;background-color: #f0f8ff;}#sk-container-id-2 div.sk-toggleable__content pre {margin: 0.2em;color: black;border-radius: 0.25em;background-color: #f0f8ff;}#sk-container-id-2 input.sk-toggleable__control:checked~div.sk-toggleable__content {max-height: 200px;max-width: 100%;overflow: auto;}#sk-container-id-2 input.sk-toggleable__control:checked~label.sk-toggleable__label-arrow:before {content: \"▾\";}#sk-container-id-2 div.sk-estimator input.sk-toggleable__control:checked~label.sk-toggleable__label {background-color: #d4ebff;}#sk-container-id-2 div.sk-label input.sk-toggleable__control:checked~label.sk-toggleable__label {background-color: #d4ebff;}#sk-container-id-2 input.sk-hidden--visually {border: 0;clip: rect(1px 1px 1px 1px);clip: rect(1px, 1px, 1px, 1px);height: 1px;margin: -1px;overflow: hidden;padding: 0;position: absolute;width: 1px;}#sk-container-id-2 div.sk-estimator {font-family: monospace;background-color: #f0f8ff;border: 1px dotted black;border-radius: 0.25em;box-sizing: border-box;margin-bottom: 0.5em;}#sk-container-id-2 div.sk-estimator:hover {background-color: #d4ebff;}#sk-container-id-2 div.sk-parallel-item::after {content: \"\";width: 100%;border-bottom: 1px solid gray;flex-grow: 1;}#sk-container-id-2 div.sk-label:hover label.sk-toggleable__label {background-color: #d4ebff;}#sk-container-id-2 div.sk-serial::before {content: \"\";position: absolute;border-left: 1px solid gray;box-sizing: border-box;top: 0;bottom: 0;left: 50%;z-index: 0;}#sk-container-id-2 div.sk-serial {display: flex;flex-direction: column;align-items: center;background-color: white;padding-right: 0.2em;padding-left: 0.2em;position: relative;}#sk-container-id-2 div.sk-item {position: relative;z-index: 1;}#sk-container-id-2 div.sk-parallel {display: flex;align-items: stretch;justify-content: center;background-color: white;position: relative;}#sk-container-id-2 div.sk-item::before, #sk-container-id-2 div.sk-parallel-item::before {content: \"\";position: absolute;border-left: 1px solid gray;box-sizing: border-box;top: 0;bottom: 0;left: 50%;z-index: -1;}#sk-container-id-2 div.sk-parallel-item {display: flex;flex-direction: column;z-index: 1;position: relative;background-color: white;}#sk-container-id-2 div.sk-parallel-item:first-child::after {align-self: flex-end;width: 50%;}#sk-container-id-2 div.sk-parallel-item:last-child::after {align-self: flex-start;width: 50%;}#sk-container-id-2 div.sk-parallel-item:only-child::after {width: 0;}#sk-container-id-2 div.sk-dashed-wrapped {border: 1px dashed gray;margin: 0 0.4em 0.5em 0.4em;box-sizing: border-box;padding-bottom: 0.4em;background-color: white;}#sk-container-id-2 div.sk-label label {font-family: monospace;font-weight: bold;display: inline-block;line-height: 1.2em;}#sk-container-id-2 div.sk-label-container {text-align: center;}#sk-container-id-2 div.sk-container {/* jupyter's `normalize.less` sets `[hidden] { display: none; }` but bootstrap.min.css set `[hidden] { display: none !important; }` so we also need the `!important` here to be able to override the default hidden behavior on the sphinx rendered scikit-learn.org. See: https://github.com/scikit-learn/scikit-learn/issues/21755 */display: inline-block !important;position: relative;}#sk-container-id-2 div.sk-text-repr-fallback {display: none;}</style><div id=\"sk-container-id-2\" class=\"sk-top-container\"><div class=\"sk-text-repr-fallback\"><pre>RandomForestClassifier(max_depth=15, random_state=100)</pre><b>In a Jupyter environment, please rerun this cell to show the HTML representation or trust the notebook. <br />On GitHub, the HTML representation is unable to render, please try loading this page with nbviewer.org.</b></div><div class=\"sk-container\" hidden><div class=\"sk-item\"><div class=\"sk-estimator sk-toggleable\"><input class=\"sk-toggleable__control sk-hidden--visually\" id=\"sk-estimator-id-2\" type=\"checkbox\" checked><label for=\"sk-estimator-id-2\" class=\"sk-toggleable__label sk-toggleable__label-arrow\">RandomForestClassifier</label><div class=\"sk-toggleable__content\"><pre>RandomForestClassifier(max_depth=15, random_state=100)</pre></div></div></div></div></div>"
            ]
          },
          "metadata": {},
          "execution_count": 34
        }
      ]
    },
    {
      "cell_type": "code",
      "source": [
        "pred_y = RandomForestModel.predict(test_x)\n",
        "cm = confusion_matrix(test_y, pred_y)\n",
        "print(cm)  # Print the confusion matrix\n",
        "print(\"Accuracy:\", (cm[0, 0] + cm[1, 1]) / sum(cm.flatten()))\n",
        "print(\"Precision:\", cm[0, 0] / (cm[0, 0] + cm[0, 1]))\n",
        "print(\"Recall:\", cm[0, 0] / (cm[0, 0] + cm[1, 0]))\n",
        "print(\"F1-Score:\", 2 * ((cm[0, 0] / (cm[0, 0] + cm[0, 1])) * (cm[0, 0] / (cm[0, 0] + cm[1, 0])) / ((cm[0, 0] / (cm[0, 0] + cm[0, 1])) + (cm[0, 0] / (cm[0, 0] + cm[1, 0])))))"
      ],
      "metadata": {
        "colab": {
          "base_uri": "https://localhost:8080/"
        },
        "id": "Rl979AkjPajR",
        "outputId": "2aef0882-f4d6-4b85-edfe-c5d2140db469"
      },
      "execution_count": null,
      "outputs": [
        {
          "output_type": "stream",
          "name": "stdout",
          "text": [
            "[[17386  5026]\n",
            " [  325   897]]\n",
            "Accuracy: 0.7735888973512736\n",
            "Precision: 0.7757451365339997\n",
            "Recall: 0.98164982214443\n",
            "F1-Score: 0.8666350970764898\n"
          ]
        }
      ]
    },
    {
      "cell_type": "code",
      "source": [
        "train_prediction = RandomForestModel.predict(train_x)\n",
        "test_prediction = RandomForestModel.predict(test_x)\n",
        "train_accuracy = accuracy_score(train_prediction,train_y)\n",
        "test_accuracy = accuracy_score(test_prediction, test_y)\n",
        "\n",
        "print('train accuracy = ', train_accuracy)\n",
        "print('test accuracy = ', test_accuracy)\n",
        "print('froud accuracy = ', accuracy_score(RandomForestModel.predict( froud_data.drop('Is Fraudulent',axis=1) ), froud_data['Is Fraudulent']))\n",
        "print('not_froud accuracy = ', accuracy_score(RandomForestModel.predict( not_froud_data.drop('Is Fraudulent',axis=1) ), not_froud_data['Is Fraudulent']))"
      ],
      "metadata": {
        "colab": {
          "base_uri": "https://localhost:8080/"
        },
        "id": "BK07oHpSsLZ6",
        "outputId": "f385dd0d-346d-4fab-aa44-e38f7675cc71"
      },
      "execution_count": null,
      "outputs": [
        {
          "output_type": "stream",
          "name": "stdout",
          "text": [
            "train accuracy =  0.8105785638830955\n",
            "test accuracy =  0.7735888973512736\n",
            "froud accuracy =  0.7678024865245537\n",
            "not_froud accuracy =  0.8533546412416371\n"
          ]
        }
      ]
    },
    {
      "cell_type": "markdown",
      "source": [
        "SVC"
      ],
      "metadata": {
        "id": "k_riUFAYubh0"
      }
    },
    {
      "cell_type": "code",
      "source": [
        "SvcModel = SVC()"
      ],
      "metadata": {
        "id": "EMxoSXcauahr"
      },
      "execution_count": null,
      "outputs": []
    },
    {
      "cell_type": "code",
      "source": [
        "SvcModel.fit(train_x,train_y)"
      ],
      "metadata": {
        "colab": {
          "base_uri": "https://localhost:8080/",
          "height": 74
        },
        "id": "RUppZDGVvt-8",
        "outputId": "a4f58dba-ac4d-47e9-ae6f-705049f9bd97",
        "collapsed": true
      },
      "execution_count": null,
      "outputs": [
        {
          "output_type": "execute_result",
          "data": {
            "text/plain": [
              "SVC()"
            ],
            "text/html": [
              "<style>#sk-container-id-4 {color: black;background-color: white;}#sk-container-id-4 pre{padding: 0;}#sk-container-id-4 div.sk-toggleable {background-color: white;}#sk-container-id-4 label.sk-toggleable__label {cursor: pointer;display: block;width: 100%;margin-bottom: 0;padding: 0.3em;box-sizing: border-box;text-align: center;}#sk-container-id-4 label.sk-toggleable__label-arrow:before {content: \"▸\";float: left;margin-right: 0.25em;color: #696969;}#sk-container-id-4 label.sk-toggleable__label-arrow:hover:before {color: black;}#sk-container-id-4 div.sk-estimator:hover label.sk-toggleable__label-arrow:before {color: black;}#sk-container-id-4 div.sk-toggleable__content {max-height: 0;max-width: 0;overflow: hidden;text-align: left;background-color: #f0f8ff;}#sk-container-id-4 div.sk-toggleable__content pre {margin: 0.2em;color: black;border-radius: 0.25em;background-color: #f0f8ff;}#sk-container-id-4 input.sk-toggleable__control:checked~div.sk-toggleable__content {max-height: 200px;max-width: 100%;overflow: auto;}#sk-container-id-4 input.sk-toggleable__control:checked~label.sk-toggleable__label-arrow:before {content: \"▾\";}#sk-container-id-4 div.sk-estimator input.sk-toggleable__control:checked~label.sk-toggleable__label {background-color: #d4ebff;}#sk-container-id-4 div.sk-label input.sk-toggleable__control:checked~label.sk-toggleable__label {background-color: #d4ebff;}#sk-container-id-4 input.sk-hidden--visually {border: 0;clip: rect(1px 1px 1px 1px);clip: rect(1px, 1px, 1px, 1px);height: 1px;margin: -1px;overflow: hidden;padding: 0;position: absolute;width: 1px;}#sk-container-id-4 div.sk-estimator {font-family: monospace;background-color: #f0f8ff;border: 1px dotted black;border-radius: 0.25em;box-sizing: border-box;margin-bottom: 0.5em;}#sk-container-id-4 div.sk-estimator:hover {background-color: #d4ebff;}#sk-container-id-4 div.sk-parallel-item::after {content: \"\";width: 100%;border-bottom: 1px solid gray;flex-grow: 1;}#sk-container-id-4 div.sk-label:hover label.sk-toggleable__label {background-color: #d4ebff;}#sk-container-id-4 div.sk-serial::before {content: \"\";position: absolute;border-left: 1px solid gray;box-sizing: border-box;top: 0;bottom: 0;left: 50%;z-index: 0;}#sk-container-id-4 div.sk-serial {display: flex;flex-direction: column;align-items: center;background-color: white;padding-right: 0.2em;padding-left: 0.2em;position: relative;}#sk-container-id-4 div.sk-item {position: relative;z-index: 1;}#sk-container-id-4 div.sk-parallel {display: flex;align-items: stretch;justify-content: center;background-color: white;position: relative;}#sk-container-id-4 div.sk-item::before, #sk-container-id-4 div.sk-parallel-item::before {content: \"\";position: absolute;border-left: 1px solid gray;box-sizing: border-box;top: 0;bottom: 0;left: 50%;z-index: -1;}#sk-container-id-4 div.sk-parallel-item {display: flex;flex-direction: column;z-index: 1;position: relative;background-color: white;}#sk-container-id-4 div.sk-parallel-item:first-child::after {align-self: flex-end;width: 50%;}#sk-container-id-4 div.sk-parallel-item:last-child::after {align-self: flex-start;width: 50%;}#sk-container-id-4 div.sk-parallel-item:only-child::after {width: 0;}#sk-container-id-4 div.sk-dashed-wrapped {border: 1px dashed gray;margin: 0 0.4em 0.5em 0.4em;box-sizing: border-box;padding-bottom: 0.4em;background-color: white;}#sk-container-id-4 div.sk-label label {font-family: monospace;font-weight: bold;display: inline-block;line-height: 1.2em;}#sk-container-id-4 div.sk-label-container {text-align: center;}#sk-container-id-4 div.sk-container {/* jupyter's `normalize.less` sets `[hidden] { display: none; }` but bootstrap.min.css set `[hidden] { display: none !important; }` so we also need the `!important` here to be able to override the default hidden behavior on the sphinx rendered scikit-learn.org. See: https://github.com/scikit-learn/scikit-learn/issues/21755 */display: inline-block !important;position: relative;}#sk-container-id-4 div.sk-text-repr-fallback {display: none;}</style><div id=\"sk-container-id-4\" class=\"sk-top-container\"><div class=\"sk-text-repr-fallback\"><pre>SVC()</pre><b>In a Jupyter environment, please rerun this cell to show the HTML representation or trust the notebook. <br />On GitHub, the HTML representation is unable to render, please try loading this page with nbviewer.org.</b></div><div class=\"sk-container\" hidden><div class=\"sk-item\"><div class=\"sk-estimator sk-toggleable\"><input class=\"sk-toggleable__control sk-hidden--visually\" id=\"sk-estimator-id-4\" type=\"checkbox\" checked><label for=\"sk-estimator-id-4\" class=\"sk-toggleable__label sk-toggleable__label-arrow\">SVC</label><div class=\"sk-toggleable__content\"><pre>SVC()</pre></div></div></div></div></div>"
            ]
          },
          "metadata": {},
          "execution_count": 71
        }
      ]
    },
    {
      "cell_type": "code",
      "source": [
        "\n",
        "print('froud accuracy = ', accuracy_score(SvcModel.predict( froud_data.drop('Is Fraudulent',axis=1) ), froud_data['Is Fraudulent']))\n",
        "print('not_froud accuracy = ', accuracy_score(SvcModel.predict( not_froud_data.drop('Is Fraudulent',axis=1) ), not_froud_data['Is Fraudulent']))"
      ],
      "metadata": {
        "colab": {
          "base_uri": "https://localhost:8080/"
        },
        "id": "IjwdUTmwv0rk",
        "outputId": "64787241-d0b5-43ab-c2fa-ab2f288ddf8c",
        "collapsed": true
      },
      "execution_count": null,
      "outputs": [
        {
          "output_type": "stream",
          "name": "stdout",
          "text": [
            "froud accuracy =  0.623432378991847\n"
          ]
        }
      ]
    },
    {
      "cell_type": "code",
      "source": [
        "from sklearn.metrics import confusion_matrix"
      ],
      "metadata": {
        "id": "bET8R0dyINhD"
      },
      "execution_count": null,
      "outputs": []
    },
    {
      "cell_type": "code",
      "source": [
        "pred_y = SvcModel.predict(test_x)"
      ],
      "metadata": {
        "id": "DpY0w1ehIaPE"
      },
      "execution_count": null,
      "outputs": []
    },
    {
      "cell_type": "code",
      "source": [
        "cm = confusion_matrix(test_y, pred_y)"
      ],
      "metadata": {
        "id": "osPfCsqUIOq8"
      },
      "execution_count": null,
      "outputs": []
    },
    {
      "cell_type": "code",
      "source": [
        "print(cm)  # Print the confusion matrix\n",
        "print(\"Accuracy:\", (cm[0, 0] + cm[1, 1]) / sum(cm.flatten()))\n",
        "print(\"Precision:\", cm[0, 0] / (cm[0, 0] + cm[0, 1]))\n",
        "print(\"Recall:\", cm[0, 0] / (cm[0, 0] + cm[1, 0]))\n",
        "print(\"F1-Score:\", 2 * ((cm[0, 0] / (cm[0, 0] + cm[0, 1])) * (cm[0, 0] / (cm[0, 0] + cm[1, 0])) / ((cm[0, 0] / (cm[0, 0] + cm[0, 1])) + (cm[0, 0] / (cm[0, 0] + cm[1, 0])))))"
      ],
      "metadata": {
        "colab": {
          "base_uri": "https://localhost:8080/"
        },
        "id": "ZDN54VhcI6WL",
        "outputId": "4ec5d5ec-bee1-4f96-8477-bddcb2991f1e"
      },
      "execution_count": null,
      "outputs": [
        {
          "output_type": "stream",
          "name": "stdout",
          "text": [
            "[[18150  4262]\n",
            " [  429   793]]\n",
            "Accuracy: 0.8015147668613015\n",
            "Precision: 0.80983401749063\n",
            "Recall: 0.9769094138543517\n",
            "F1-Score: 0.8855602449318143\n"
          ]
        }
      ]
    },
    {
      "cell_type": "code",
      "source": [
        "import pickle"
      ],
      "metadata": {
        "id": "WybyY0rI8Ky7"
      },
      "execution_count": null,
      "outputs": []
    },
    {
      "cell_type": "code",
      "source": [
        "pickle.dump(RandomForestModel,open('/content/E-commerce-RandomForestModel-2','wb'))"
      ],
      "metadata": {
        "id": "dcddzy0R8NqW"
      },
      "execution_count": null,
      "outputs": []
    },
    {
      "cell_type": "code",
      "source": [
        "svc1=pickle.load(open(\"/content/E-commerce-SVC1\", \"rb\"))\n",
        "svc2=pickle.load(open(\"/content/E-commerce-Svc2\", \"rb\"))\n",
        "rf1=pickle.load(open(\"/content/E-commerce-RF1\", \"rb\"))\n",
        "rf2=pickle.load(open(\"/content/E-commerce-RF2\", \"rb\"))"
      ],
      "metadata": {
        "id": "T5a1D5N1R1NO"
      },
      "execution_count": null,
      "outputs": []
    },
    {
      "cell_type": "code",
      "source": [
        "pred_y = svc2.predict(test_x)\n",
        "cm = confusion_matrix(test_y, pred_y)\n",
        "print(cm)  # Print the confusion matrix\n",
        "print(\"Accuracy:\", (cm[0, 0] + cm[1, 1]) / sum(cm.flatten()))\n",
        "print(\"Precision:\", cm[0, 0] / (cm[0, 0] + cm[0, 1]))\n",
        "print(\"Recall:\", cm[0, 0] / (cm[0, 0] + cm[1, 0]))\n",
        "print(\"F1-Score:\", 2 * ((cm[0, 0] / (cm[0, 0] + cm[0, 1])) * (cm[0, 0] / (cm[0, 0] + cm[1, 0])) / ((cm[0, 0] / (cm[0, 0] + cm[0, 1])) + (cm[0, 0] / (cm[0, 0] + cm[1, 0])))))"
      ],
      "metadata": {
        "colab": {
          "base_uri": "https://localhost:8080/"
        },
        "id": "J_mBzroE_FUY",
        "outputId": "e7c67d97-2995-44be-b4e4-707818a6b878"
      },
      "execution_count": null,
      "outputs": [
        {
          "output_type": "stream",
          "name": "stdout",
          "text": [
            "[[18150  4262]\n",
            " [  429   793]]\n",
            "Accuracy: 0.8015147668613015\n",
            "Precision: 0.80983401749063\n",
            "Recall: 0.9769094138543517\n",
            "F1-Score: 0.8855602449318143\n"
          ]
        }
      ]
    },
    {
      "cell_type": "code",
      "source": [
        "pred_y = rf2.predict(test_x)\n",
        "cm = confusion_matrix(test_y, pred_y)\n",
        "print(cm)  # Print the confusion matrix\n",
        "print(\"Accuracy:\", (cm[0, 0] + cm[1, 1]) / sum(cm.flatten()))\n",
        "print(\"Precision:\", cm[0, 0] / (cm[0, 0] + cm[0, 1]))\n",
        "print(\"Recall:\", cm[0, 0] / (cm[0, 0] + cm[1, 0]))\n",
        "print(\"F1-Score:\", 2 * ((cm[0, 0] / (cm[0, 0] + cm[0, 1])) * (cm[0, 0] / (cm[0, 0] + cm[1, 0])) / ((cm[0, 0] / (cm[0, 0] + cm[0, 1])) + (cm[0, 0] / (cm[0, 0] + cm[1, 0])))))"
      ],
      "metadata": {
        "colab": {
          "base_uri": "https://localhost:8080/"
        },
        "id": "NffIsnieBPZ8",
        "outputId": "36019475-c43b-4e33-cdcf-68f4c07605ec"
      },
      "execution_count": null,
      "outputs": [
        {
          "output_type": "stream",
          "name": "stdout",
          "text": [
            "[[17386  5026]\n",
            " [  325   897]]\n",
            "Accuracy: 0.7735888973512736\n",
            "Precision: 0.7757451365339997\n",
            "Recall: 0.98164982214443\n",
            "F1-Score: 0.8666350970764898\n"
          ]
        }
      ]
    },
    {
      "cell_type": "code",
      "source": [
        "pred_y = svc1.predict(test_x)\n",
        "cm = confusion_matrix(test_y, pred_y)\n",
        "print(cm)  # Print the confusion matrix\n",
        "print(\"Accuracy:\", (cm[0, 0] + cm[1, 1]) / sum(cm.flatten()))\n",
        "print(\"Precision:\", cm[0, 0] / (cm[0, 0] + cm[0, 1]))\n",
        "print(\"Recall:\", cm[0, 0] / (cm[0, 0] + cm[1, 0]))\n",
        "print(\"F1-Score:\", 2 * ((cm[0, 0] / (cm[0, 0] + cm[0, 1])) * (cm[0, 0] / (cm[0, 0] + cm[1, 0])) / ((cm[0, 0] / (cm[0, 0] + cm[0, 1])) + (cm[0, 0] / (cm[0, 0] + cm[1, 0])))))"
      ],
      "metadata": {
        "colab": {
          "base_uri": "https://localhost:8080/"
        },
        "id": "r3J4_mP6CWza",
        "outputId": "64b9b763-89e5-4efc-db1c-d4c574595413"
      },
      "execution_count": null,
      "outputs": [
        {
          "output_type": "stream",
          "name": "stdout",
          "text": [
            "[[19163  3249]\n",
            " [  672   550]]\n",
            "Accuracy: 0.8340949479563341\n",
            "Precision: 0.8550330180260575\n",
            "Recall: 0.9661204940761281\n",
            "F1-Score: 0.9071886761190144\n"
          ]
        }
      ]
    },
    {
      "cell_type": "code",
      "source": [
        "pred_y = rf1.predict(test_x)\n",
        "cm = confusion_matrix(test_y, pred_y)\n",
        "print(cm)  # Print the confusion matrix\n",
        "print(\"Accuracy:\", (cm[0, 0] + cm[1, 1]) / sum(cm.flatten()))\n",
        "print(\"Precision:\", cm[0, 0] / (cm[0, 0] + cm[0, 1]))\n",
        "print(\"Recall:\", cm[0, 0] / (cm[0, 0] + cm[1, 0]))\n",
        "print(\"F1-Score:\", 2 * ((cm[0, 0] / (cm[0, 0] + cm[0, 1])) * (cm[0, 0] / (cm[0, 0] + cm[1, 0])) / ((cm[0, 0] / (cm[0, 0] + cm[0, 1])) + (cm[0, 0] / (cm[0, 0] + cm[1, 0])))))"
      ],
      "metadata": {
        "colab": {
          "base_uri": "https://localhost:8080/"
        },
        "id": "x1wJ6KGLBq1Q",
        "outputId": "a4dd7660-3133-43a6-d4fe-462c36bf6ad3"
      },
      "execution_count": null,
      "outputs": [
        {
          "output_type": "stream",
          "name": "stdout",
          "text": [
            "[[17550  4862]\n",
            " [  349   873]]\n",
            "Accuracy: 0.7795125666412795\n",
            "Precision: 0.7830626450116009\n",
            "Recall: 0.9805017040058104\n",
            "F1-Score: 0.87073007367716\n"
          ]
        }
      ]
    },
    {
      "cell_type": "code",
      "source": [
        "def gen_stack_data(df):\n",
        "  simple_df = df.drop([ 'Product Category', 'Quantity'\t,'Customer Age', 'Device Used',  'Customer Location','Transaction Month',\t'Shipping-Billing-Simalarity'],axis=1)\n",
        "\n",
        "  pred_svc1=svc1.predict(df)\n",
        "  print('svc1 prediction done')\n",
        "  pred_svc2=svc2.predict(simple_df)\n",
        "  print('svc2 prediction done')\n",
        "  pred_rf1=rf1.predict(df)\n",
        "  print('rf1 prediction done')\n",
        "  pred_rf2=rf2.predict(simple_df)\n",
        "  print('rf2 prediction done')\n",
        "\n",
        "  df['svc1']=pred_svc1\n",
        "  print('svc1 added to df successfully')\n",
        "  df['svc2']=pred_svc2\n",
        "  print('svc2 added to df successfully')\n",
        "  df['rf1']=pred_rf1\n",
        "  print('rf1 added to df successfully')\n",
        "  df['rf2']=pred_rf2\n",
        "  print('rf2 added to df successfully')\n",
        "\n",
        "  return df"
      ],
      "metadata": {
        "id": "5wIjrNAyDacz"
      },
      "execution_count": null,
      "outputs": []
    },
    {
      "cell_type": "code",
      "source": [
        "stacked_train_x = gen_stack_data(train_x)\n",
        "stacked_test_x = gen_stack_data(test_x)"
      ],
      "metadata": {
        "colab": {
          "base_uri": "https://localhost:8080/"
        },
        "id": "OZuPVUaNF9kD",
        "outputId": "76d583be-f62f-4824-cd1c-9ae40852a4c1"
      },
      "execution_count": null,
      "outputs": [
        {
          "output_type": "stream",
          "name": "stdout",
          "text": [
            "svc1 prediction done\n",
            "svc2 prediction done\n",
            "rf1 prediction done\n",
            "rf2 prediction done\n",
            "svc1 added to df successfully\n",
            "svc2 added to df successfully\n",
            "rf1 added to df successfully\n",
            "rf2 added to df successfully\n",
            "svc1 prediction done\n",
            "svc2 prediction done\n",
            "rf1 prediction done\n",
            "rf2 prediction done\n",
            "svc1 added to df successfully\n",
            "svc2 added to df successfully\n",
            "rf1 added to df successfully\n",
            "rf2 added to df successfully\n"
          ]
        }
      ]
    },
    {
      "cell_type": "code",
      "source": [
        "stacked_train_x.to_csv(\"E-Commerce-Transactions-stacked-train.csv\", index=False)\n",
        "stacked_test_x.to_csv(\"E-Commerce-Transactions-stacked-test.csv\", index=False)"
      ],
      "metadata": {
        "id": "I5HqtqiTZLrR"
      },
      "execution_count": null,
      "outputs": []
    },
    {
      "cell_type": "code",
      "source": [
        "stacked_model = SVC()"
      ],
      "metadata": {
        "id": "H1W2E4rBG-fZ"
      },
      "execution_count": null,
      "outputs": []
    },
    {
      "cell_type": "code",
      "source": [
        "stacked_model.fit(stacked_train_x,train_y)"
      ],
      "metadata": {
        "colab": {
          "base_uri": "https://localhost:8080/",
          "height": 74
        },
        "id": "laTNVLsKJnfY",
        "outputId": "1a6e9090-892d-47c1-f0f0-bfc7c3ad9494"
      },
      "execution_count": null,
      "outputs": [
        {
          "output_type": "execute_result",
          "data": {
            "text/plain": [
              "SVC()"
            ],
            "text/html": [
              "<style>#sk-container-id-4 {color: black;background-color: white;}#sk-container-id-4 pre{padding: 0;}#sk-container-id-4 div.sk-toggleable {background-color: white;}#sk-container-id-4 label.sk-toggleable__label {cursor: pointer;display: block;width: 100%;margin-bottom: 0;padding: 0.3em;box-sizing: border-box;text-align: center;}#sk-container-id-4 label.sk-toggleable__label-arrow:before {content: \"▸\";float: left;margin-right: 0.25em;color: #696969;}#sk-container-id-4 label.sk-toggleable__label-arrow:hover:before {color: black;}#sk-container-id-4 div.sk-estimator:hover label.sk-toggleable__label-arrow:before {color: black;}#sk-container-id-4 div.sk-toggleable__content {max-height: 0;max-width: 0;overflow: hidden;text-align: left;background-color: #f0f8ff;}#sk-container-id-4 div.sk-toggleable__content pre {margin: 0.2em;color: black;border-radius: 0.25em;background-color: #f0f8ff;}#sk-container-id-4 input.sk-toggleable__control:checked~div.sk-toggleable__content {max-height: 200px;max-width: 100%;overflow: auto;}#sk-container-id-4 input.sk-toggleable__control:checked~label.sk-toggleable__label-arrow:before {content: \"▾\";}#sk-container-id-4 div.sk-estimator input.sk-toggleable__control:checked~label.sk-toggleable__label {background-color: #d4ebff;}#sk-container-id-4 div.sk-label input.sk-toggleable__control:checked~label.sk-toggleable__label {background-color: #d4ebff;}#sk-container-id-4 input.sk-hidden--visually {border: 0;clip: rect(1px 1px 1px 1px);clip: rect(1px, 1px, 1px, 1px);height: 1px;margin: -1px;overflow: hidden;padding: 0;position: absolute;width: 1px;}#sk-container-id-4 div.sk-estimator {font-family: monospace;background-color: #f0f8ff;border: 1px dotted black;border-radius: 0.25em;box-sizing: border-box;margin-bottom: 0.5em;}#sk-container-id-4 div.sk-estimator:hover {background-color: #d4ebff;}#sk-container-id-4 div.sk-parallel-item::after {content: \"\";width: 100%;border-bottom: 1px solid gray;flex-grow: 1;}#sk-container-id-4 div.sk-label:hover label.sk-toggleable__label {background-color: #d4ebff;}#sk-container-id-4 div.sk-serial::before {content: \"\";position: absolute;border-left: 1px solid gray;box-sizing: border-box;top: 0;bottom: 0;left: 50%;z-index: 0;}#sk-container-id-4 div.sk-serial {display: flex;flex-direction: column;align-items: center;background-color: white;padding-right: 0.2em;padding-left: 0.2em;position: relative;}#sk-container-id-4 div.sk-item {position: relative;z-index: 1;}#sk-container-id-4 div.sk-parallel {display: flex;align-items: stretch;justify-content: center;background-color: white;position: relative;}#sk-container-id-4 div.sk-item::before, #sk-container-id-4 div.sk-parallel-item::before {content: \"\";position: absolute;border-left: 1px solid gray;box-sizing: border-box;top: 0;bottom: 0;left: 50%;z-index: -1;}#sk-container-id-4 div.sk-parallel-item {display: flex;flex-direction: column;z-index: 1;position: relative;background-color: white;}#sk-container-id-4 div.sk-parallel-item:first-child::after {align-self: flex-end;width: 50%;}#sk-container-id-4 div.sk-parallel-item:last-child::after {align-self: flex-start;width: 50%;}#sk-container-id-4 div.sk-parallel-item:only-child::after {width: 0;}#sk-container-id-4 div.sk-dashed-wrapped {border: 1px dashed gray;margin: 0 0.4em 0.5em 0.4em;box-sizing: border-box;padding-bottom: 0.4em;background-color: white;}#sk-container-id-4 div.sk-label label {font-family: monospace;font-weight: bold;display: inline-block;line-height: 1.2em;}#sk-container-id-4 div.sk-label-container {text-align: center;}#sk-container-id-4 div.sk-container {/* jupyter's `normalize.less` sets `[hidden] { display: none; }` but bootstrap.min.css set `[hidden] { display: none !important; }` so we also need the `!important` here to be able to override the default hidden behavior on the sphinx rendered scikit-learn.org. See: https://github.com/scikit-learn/scikit-learn/issues/21755 */display: inline-block !important;position: relative;}#sk-container-id-4 div.sk-text-repr-fallback {display: none;}</style><div id=\"sk-container-id-4\" class=\"sk-top-container\"><div class=\"sk-text-repr-fallback\"><pre>SVC()</pre><b>In a Jupyter environment, please rerun this cell to show the HTML representation or trust the notebook. <br />On GitHub, the HTML representation is unable to render, please try loading this page with nbviewer.org.</b></div><div class=\"sk-container\" hidden><div class=\"sk-item\"><div class=\"sk-estimator sk-toggleable\"><input class=\"sk-toggleable__control sk-hidden--visually\" id=\"sk-estimator-id-4\" type=\"checkbox\" checked><label for=\"sk-estimator-id-4\" class=\"sk-toggleable__label sk-toggleable__label-arrow\">SVC</label><div class=\"sk-toggleable__content\"><pre>SVC()</pre></div></div></div></div></div>"
            ]
          },
          "metadata": {},
          "execution_count": 91
        }
      ]
    },
    {
      "cell_type": "code",
      "source": [
        "pred_y = stacked_model.predict(stacked_test_x)\n",
        "cm = confusion_matrix(test_y, pred_y)\n",
        "print(cm)  # Print the confusion matrix\n",
        "print(\"Accuracy:\", (cm[0, 0] + cm[1, 1]) / sum(cm.flatten()))\n",
        "print(\"Precision:\", cm[0, 0] / (cm[0, 0] + cm[0, 1]))\n",
        "print(\"Recall:\", cm[0, 0] / (cm[0, 0] + cm[1, 0]))\n",
        "print(\"F1-Score:\", 2 * ((cm[0, 0] / (cm[0, 0] + cm[0, 1])) * (cm[0, 0] / (cm[0, 0] + cm[1, 0])) / ((cm[0, 0] / (cm[0, 0] + cm[0, 1])) + (cm[0, 0] / (cm[0, 0] + cm[1, 0])))))"
      ],
      "metadata": {
        "colab": {
          "base_uri": "https://localhost:8080/"
        },
        "id": "Y2-W8TDOJ0gO",
        "outputId": "07526708-becd-46c2-c124-f08c1435afca"
      },
      "execution_count": null,
      "outputs": [
        {
          "output_type": "stream",
          "name": "stdout",
          "text": [
            "[[18065  4347]\n",
            " [  378   844]]\n",
            "Accuracy: 0.8000761614623001\n",
            "Precision: 0.8060414063894342\n",
            "Recall: 0.9795044190207667\n",
            "F1-Score: 0.8843470811406191\n"
          ]
        }
      ]
    },
    {
      "cell_type": "code",
      "source": [
        "specific_cols = ['svc1', 'svc2', 'rf1', 'rf2']\n",
        "pred_y = stacked_test_x[specific_cols].sum(axis=1) >= 3\n",
        "pred_y = pred_y.astype(int)"
      ],
      "metadata": {
        "id": "2ZscVRK9bEZg"
      },
      "execution_count": null,
      "outputs": []
    },
    {
      "cell_type": "code",
      "source": [
        "pred_y.head()"
      ],
      "metadata": {
        "colab": {
          "base_uri": "https://localhost:8080/"
        },
        "id": "kLK_8511caqZ",
        "outputId": "8de2cc34-59d6-45f1-8ec4-58f782c45218"
      },
      "execution_count": null,
      "outputs": [
        {
          "output_type": "execute_result",
          "data": {
            "text/plain": [
              "0    0\n",
              "1    0\n",
              "2    0\n",
              "3    0\n",
              "4    0\n",
              "dtype: int64"
            ]
          },
          "metadata": {},
          "execution_count": 83
        }
      ]
    },
    {
      "cell_type": "code",
      "source": [
        "cm = confusion_matrix(test_y, pred_y)\n",
        "print(cm)  # Print the confusion matrix\n",
        "print(\"Accuracy:\", (cm[0, 0] + cm[1, 1]) / sum(cm.flatten()))\n",
        "print(\"Precision:\", cm[0, 0] / (cm[0, 0] + cm[0, 1]))\n",
        "print(\"Recall:\", cm[0, 0] / (cm[0, 0] + cm[1, 0]))\n",
        "print(\"F1-Score:\", 2 * ((cm[0, 0] / (cm[0, 0] + cm[0, 1])) * (cm[0, 0] / (cm[0, 0] + cm[1, 0])) / ((cm[0, 0] / (cm[0, 0] + cm[0, 1])) + (cm[0, 0] / (cm[0, 0] + cm[1, 0])))))"
      ],
      "metadata": {
        "colab": {
          "base_uri": "https://localhost:8080/"
        },
        "id": "E4PnIP25cfF1",
        "outputId": "02f152c1-8788-407e-a0a2-63e13f2a6a86"
      },
      "execution_count": null,
      "outputs": [
        {
          "output_type": "stream",
          "name": "stdout",
          "text": [
            "[[19516  2896]\n",
            " [  456   766]]\n",
            "Accuracy: 0.8581704324278582\n",
            "Precision: 0.8707835088345529\n",
            "Recall: 0.9771680352493491\n",
            "F1-Score: 0.9209135522838807\n"
          ]
        }
      ]
    },
    {
      "cell_type": "code",
      "source": [],
      "metadata": {
        "id": "WrlBw1wddupo"
      },
      "execution_count": null,
      "outputs": []
    }
  ]
}